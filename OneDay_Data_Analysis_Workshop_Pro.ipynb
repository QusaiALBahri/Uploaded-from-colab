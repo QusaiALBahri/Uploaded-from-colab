{
  "nbformat": 4,
  "nbformat_minor": 5,
  "metadata": {
    "colab": {
      "provenance": [],
      "include_colab_link": true
    },
    "kernelspec": {
      "name": "python3",
      "display_name": "Python 3"
    }
  },
  "cells": [
    {
      "cell_type": "markdown",
      "metadata": {
        "id": "view-in-github",
        "colab_type": "text"
      },
      "source": [
        "<a href=\"https://colab.research.google.com/github/QusaiALBahri/Uploaded-from-colab/blob/main/OneDay_Data_Analysis_Workshop_Pro.ipynb\" target=\"_parent\"><img src=\"https://colab.research.google.com/assets/colab-badge.svg\" alt=\"Open In Colab\"/></a>"
      ]
    },
    {
      "cell_type": "markdown",
      "metadata": {
        "id": "nFNlAkEIx3Vl"
      },
      "source": [
        "# 📘 ورشة تحليل البيانات باستخدام بايثون (Google Colab) — النسخة المشروحة\n",
        "**المدة:** يوم واحد (10:00 → 15:00)  \n",
        "**المستهدف:** متدربون غير متخصصين يرغبون بإتقان عملي من الصفر حتى اتخاذ القرار.\n"
      ],
      "id": "nFNlAkEIx3Vl"
    },
    {
      "cell_type": "markdown",
      "metadata": {
        "id": "MrQ_MUBdx3Vm"
      },
      "source": [
        "## 📊 مقدمة موجزة\n",
        "تحليل البيانات أصبح عنصرًا أساسيًا في نجاح الأعمال والمنظمات؛ يساعد على فهم الواقع، اكتشاف الأنماط، والتنبؤ بالاتجاهات لاتخاذ قرارات أدق. سنستخدم **Pandas** لإدارة البيانات و**Matplotlib** للتصور. اخترنا **Python عبر Google Colab** لأنها مجانية، سهلة، ومستخدمة على نطاق مهني واسع.\n"
      ],
      "id": "MrQ_MUBdx3Vm"
    },
    {
      "cell_type": "markdown",
      "metadata": {
        "id": "nVoVSf1mx3Vn"
      },
      "source": [
        "## 🎯 مخرجات التعلّم\n",
        "- استيراد وتنظيف البيانات (CSV).  \n",
        "- تنفيذ تحليل وصفي ورسوم بيانية واضحة.  \n",
        "- استخدام GroupBy وPivot لاستخلاص مؤشرات.  \n",
        "- صياغة توصيات عملية تدعم اتخاذ القرار.\n"
      ],
      "id": "nVoVSf1mx3Vn"
    },
    {
      "cell_type": "markdown",
      "metadata": {
        "id": "ymr6z-zjx3Vo"
      },
      "source": [
        "## 🕙 الأجندة\n",
        "- 10:00–10:30: مقدمة وتهيئة البيئة  \n",
        "- 10:30–11:30: قراءة البيانات واستكشافها  \n",
        "- 11:30–12:30: تنظيف البيانات وتحويل الأنواع  \n",
        "- 12:30–13:00: استراحة  \n",
        "- 13:00–14:00: تحليل وصفي ورسوم  \n",
        "- 14:00–14:45: GroupBy/Pivot → من التحليل إلى قرار  \n",
        "- 14:45–15:00: مشروع مصغّر + ختام\n"
      ],
      "id": "ymr6z-zjx3Vo"
    },
    {
      "cell_type": "markdown",
      "metadata": {
        "id": "iCB2N8f7x3Vo"
      },
      "source": [
        "## 1) التهيئة وبدء العمل\n",
        "**المفهوم:** اختبار بيئة Colab قبل أي شيء.  \n",
        "**لماذا نحتاجه؟** مثل اختبار الميكروفون قبل بدء العرض؛ إذا نجحت الطباعة فالبيئة جاهزة.  \n",
        "**كيف يُستخدم؟** نستعمل الدالة المدمجة `print()` لإظهار رسالة.\n"
      ],
      "id": "iCB2N8f7x3Vo"
    },
    {
      "cell_type": "code",
      "metadata": {
        "colab": {
          "base_uri": "https://localhost:8080/"
        },
        "id": "ihhfmeuCx3Vo",
        "outputId": "007f9601-4f38-4c3d-a568-d6903b97a3ad"
      },
      "execution_count": null,
      "outputs": [
        {
          "output_type": "stream",
          "name": "stdout",
          "text": [
            "مرحباً بكم في ورشة تحليل البيانات!\n"
          ]
        }
      ],
      "source": [
        "print(\"مرحباً بكم في ورشة تحليل البيانات!\")"
      ],
      "id": "ihhfmeuCx3Vo"
    },
    {
      "cell_type": "markdown",
      "metadata": {
        "id": "vC8UyC8Ex3Vp"
      },
      "source": [
        "**الناتج المتوقع:** ظهور نفس النص على الشاشة.  \n",
        "**تنبيه أخطاء محتملة:** إن لم يظهر شيء، اضغط زر التشغيل بجانب الخلية.\n"
      ],
      "id": "vC8UyC8Ex3Vp"
    },
    {
      "cell_type": "markdown",
      "metadata": {
        "id": "EvEctvVAx3Vp"
      },
      "source": [
        "### استيراد المكتبات\n",
        "**المفهوم:** المكتبات هي صناديق أدوات جاهزة.  \n",
        "**لماذا نحتاجها؟** لتسهيل التعامل مع الجداول والرسم دون بناء كل شيء من الصفر.  \n",
        "**كيف يُستخدم؟** نستورد `pandas` باسم `pd` و`matplotlib.pyplot` باسم `plt` مرةً واحدة.\n"
      ],
      "id": "EvEctvVAx3Vp"
    },
    {
      "cell_type": "code",
      "metadata": {
        "id": "2XfKN2Xnx3Vp"
      },
      "execution_count": null,
      "outputs": [],
      "source": [
        "import pandas as pd; import matplotlib.pyplot as plt"
      ],
      "id": "2XfKN2Xnx3Vp"
    },
    {
      "cell_type": "markdown",
      "metadata": {
        "id": "Z-clPjXPx3Vq"
      },
      "source": [
        "**ملاحظة:** إذا ظهرت أخطاء استيراد نادرة، أعد تشغيل البيئة (Runtime → Restart).\n"
      ],
      "id": "Z-clPjXPx3Vq"
    },
    {
      "cell_type": "markdown",
      "metadata": {
        "id": "WuhQUHXpx3Vq"
      },
      "source": [
        "## 2) قراءة البيانات واستكشافها\n",
        "### قراءة ملف CSV\n",
        "**المفهوم:** CSV هو جدول نصي مفصول بفواصل؛ الشكل الأكثر شيوعًا لحفظ البيانات.  \n",
        "**لماذا؟** لنتمكن من التحليل يجب أولًا تحميل البيانات إلى **DataFrame** (جدول Pandas).  \n",
        "**كيف؟** نستعمل `pd.read_csv` ونعاين أول الصفوف بـ`head()` للتأكد أن القراءة صحيحة.\n"
      ],
      "id": "WuhQUHXpx3Vq"
    },
    {
      "cell_type": "code",
      "metadata": {
        "colab": {
          "base_uri": "https://localhost:8080/",
          "height": 206
        },
        "id": "HV2EIkRTx3Vq",
        "outputId": "7c9438c9-e576-49fd-aa70-f0fb4fe1701a"
      },
      "execution_count": null,
      "outputs": [
        {
          "output_type": "execute_result",
          "data": {
            "text/plain": [
              "    OrderID        Date Customer    City   Product     Category  Units  \\\n",
              "0  ORD-1001  2025-03-23   CUST-2   Irbid    Laptop  Electronics      2   \n",
              "1  ORD-1002  2025-01-29  CUST-48   Amman     Phone  Electronics      2   \n",
              "2  ORD-1003  2025-03-17   CUST-3   Amman  Notebook   Stationery      3   \n",
              "3  ORD-1004  2025-01-28  CUST-33  Madaba     Phone  Electronics      2   \n",
              "4  ORD-1005  2025-03-13  CUST-46  Madaba     Phone  Electronics      1   \n",
              "\n",
              "  UnitPrice  Discount  DeliveryDays   Channel  \n",
              "0     82.61      0.05             1    Online  \n",
              "1     47.32      0.09             1    Online  \n",
              "2     40.47      0.18             2    Online  \n",
              "3     55.84      0.12             4    Online  \n",
              "4     52.07      0.09             2  In-Store  "
            ],
            "text/html": [
              "\n",
              "  <div id=\"df-6952ce64-5c60-4f6f-b376-9a54083e7210\" class=\"colab-df-container\">\n",
              "    <div>\n",
              "<style scoped>\n",
              "    .dataframe tbody tr th:only-of-type {\n",
              "        vertical-align: middle;\n",
              "    }\n",
              "\n",
              "    .dataframe tbody tr th {\n",
              "        vertical-align: top;\n",
              "    }\n",
              "\n",
              "    .dataframe thead th {\n",
              "        text-align: right;\n",
              "    }\n",
              "</style>\n",
              "<table border=\"1\" class=\"dataframe\">\n",
              "  <thead>\n",
              "    <tr style=\"text-align: right;\">\n",
              "      <th></th>\n",
              "      <th>OrderID</th>\n",
              "      <th>Date</th>\n",
              "      <th>Customer</th>\n",
              "      <th>City</th>\n",
              "      <th>Product</th>\n",
              "      <th>Category</th>\n",
              "      <th>Units</th>\n",
              "      <th>UnitPrice</th>\n",
              "      <th>Discount</th>\n",
              "      <th>DeliveryDays</th>\n",
              "      <th>Channel</th>\n",
              "    </tr>\n",
              "  </thead>\n",
              "  <tbody>\n",
              "    <tr>\n",
              "      <th>0</th>\n",
              "      <td>ORD-1001</td>\n",
              "      <td>2025-03-23</td>\n",
              "      <td>CUST-2</td>\n",
              "      <td>Irbid</td>\n",
              "      <td>Laptop</td>\n",
              "      <td>Electronics</td>\n",
              "      <td>2</td>\n",
              "      <td>82.61</td>\n",
              "      <td>0.05</td>\n",
              "      <td>1</td>\n",
              "      <td>Online</td>\n",
              "    </tr>\n",
              "    <tr>\n",
              "      <th>1</th>\n",
              "      <td>ORD-1002</td>\n",
              "      <td>2025-01-29</td>\n",
              "      <td>CUST-48</td>\n",
              "      <td>Amman</td>\n",
              "      <td>Phone</td>\n",
              "      <td>Electronics</td>\n",
              "      <td>2</td>\n",
              "      <td>47.32</td>\n",
              "      <td>0.09</td>\n",
              "      <td>1</td>\n",
              "      <td>Online</td>\n",
              "    </tr>\n",
              "    <tr>\n",
              "      <th>2</th>\n",
              "      <td>ORD-1003</td>\n",
              "      <td>2025-03-17</td>\n",
              "      <td>CUST-3</td>\n",
              "      <td>Amman</td>\n",
              "      <td>Notebook</td>\n",
              "      <td>Stationery</td>\n",
              "      <td>3</td>\n",
              "      <td>40.47</td>\n",
              "      <td>0.18</td>\n",
              "      <td>2</td>\n",
              "      <td>Online</td>\n",
              "    </tr>\n",
              "    <tr>\n",
              "      <th>3</th>\n",
              "      <td>ORD-1004</td>\n",
              "      <td>2025-01-28</td>\n",
              "      <td>CUST-33</td>\n",
              "      <td>Madaba</td>\n",
              "      <td>Phone</td>\n",
              "      <td>Electronics</td>\n",
              "      <td>2</td>\n",
              "      <td>55.84</td>\n",
              "      <td>0.12</td>\n",
              "      <td>4</td>\n",
              "      <td>Online</td>\n",
              "    </tr>\n",
              "    <tr>\n",
              "      <th>4</th>\n",
              "      <td>ORD-1005</td>\n",
              "      <td>2025-03-13</td>\n",
              "      <td>CUST-46</td>\n",
              "      <td>Madaba</td>\n",
              "      <td>Phone</td>\n",
              "      <td>Electronics</td>\n",
              "      <td>1</td>\n",
              "      <td>52.07</td>\n",
              "      <td>0.09</td>\n",
              "      <td>2</td>\n",
              "      <td>In-Store</td>\n",
              "    </tr>\n",
              "  </tbody>\n",
              "</table>\n",
              "</div>\n",
              "    <div class=\"colab-df-buttons\">\n",
              "\n",
              "  <div class=\"colab-df-container\">\n",
              "    <button class=\"colab-df-convert\" onclick=\"convertToInteractive('df-6952ce64-5c60-4f6f-b376-9a54083e7210')\"\n",
              "            title=\"Convert this dataframe to an interactive table.\"\n",
              "            style=\"display:none;\">\n",
              "\n",
              "  <svg xmlns=\"http://www.w3.org/2000/svg\" height=\"24px\" viewBox=\"0 -960 960 960\">\n",
              "    <path d=\"M120-120v-720h720v720H120Zm60-500h600v-160H180v160Zm220 220h160v-160H400v160Zm0 220h160v-160H400v160ZM180-400h160v-160H180v160Zm440 0h160v-160H620v160ZM180-180h160v-160H180v160Zm440 0h160v-160H620v160Z\"/>\n",
              "  </svg>\n",
              "    </button>\n",
              "\n",
              "  <style>\n",
              "    .colab-df-container {\n",
              "      display:flex;\n",
              "      gap: 12px;\n",
              "    }\n",
              "\n",
              "    .colab-df-convert {\n",
              "      background-color: #E8F0FE;\n",
              "      border: none;\n",
              "      border-radius: 50%;\n",
              "      cursor: pointer;\n",
              "      display: none;\n",
              "      fill: #1967D2;\n",
              "      height: 32px;\n",
              "      padding: 0 0 0 0;\n",
              "      width: 32px;\n",
              "    }\n",
              "\n",
              "    .colab-df-convert:hover {\n",
              "      background-color: #E2EBFA;\n",
              "      box-shadow: 0px 1px 2px rgba(60, 64, 67, 0.3), 0px 1px 3px 1px rgba(60, 64, 67, 0.15);\n",
              "      fill: #174EA6;\n",
              "    }\n",
              "\n",
              "    .colab-df-buttons div {\n",
              "      margin-bottom: 4px;\n",
              "    }\n",
              "\n",
              "    [theme=dark] .colab-df-convert {\n",
              "      background-color: #3B4455;\n",
              "      fill: #D2E3FC;\n",
              "    }\n",
              "\n",
              "    [theme=dark] .colab-df-convert:hover {\n",
              "      background-color: #434B5C;\n",
              "      box-shadow: 0px 1px 3px 1px rgba(0, 0, 0, 0.15);\n",
              "      filter: drop-shadow(0px 1px 2px rgba(0, 0, 0, 0.3));\n",
              "      fill: #FFFFFF;\n",
              "    }\n",
              "  </style>\n",
              "\n",
              "    <script>\n",
              "      const buttonEl =\n",
              "        document.querySelector('#df-6952ce64-5c60-4f6f-b376-9a54083e7210 button.colab-df-convert');\n",
              "      buttonEl.style.display =\n",
              "        google.colab.kernel.accessAllowed ? 'block' : 'none';\n",
              "\n",
              "      async function convertToInteractive(key) {\n",
              "        const element = document.querySelector('#df-6952ce64-5c60-4f6f-b376-9a54083e7210');\n",
              "        const dataTable =\n",
              "          await google.colab.kernel.invokeFunction('convertToInteractive',\n",
              "                                                    [key], {});\n",
              "        if (!dataTable) return;\n",
              "\n",
              "        const docLinkHtml = 'Like what you see? Visit the ' +\n",
              "          '<a target=\"_blank\" href=https://colab.research.google.com/notebooks/data_table.ipynb>data table notebook</a>'\n",
              "          + ' to learn more about interactive tables.';\n",
              "        element.innerHTML = '';\n",
              "        dataTable['output_type'] = 'display_data';\n",
              "        await google.colab.output.renderOutput(dataTable, element);\n",
              "        const docLink = document.createElement('div');\n",
              "        docLink.innerHTML = docLinkHtml;\n",
              "        element.appendChild(docLink);\n",
              "      }\n",
              "    </script>\n",
              "  </div>\n",
              "\n",
              "\n",
              "    <div id=\"df-3a74d258-b8f1-4ab7-8fc1-3074da0ac6a6\">\n",
              "      <button class=\"colab-df-quickchart\" onclick=\"quickchart('df-3a74d258-b8f1-4ab7-8fc1-3074da0ac6a6')\"\n",
              "                title=\"Suggest charts\"\n",
              "                style=\"display:none;\">\n",
              "\n",
              "<svg xmlns=\"http://www.w3.org/2000/svg\" height=\"24px\"viewBox=\"0 0 24 24\"\n",
              "     width=\"24px\">\n",
              "    <g>\n",
              "        <path d=\"M19 3H5c-1.1 0-2 .9-2 2v14c0 1.1.9 2 2 2h14c1.1 0 2-.9 2-2V5c0-1.1-.9-2-2-2zM9 17H7v-7h2v7zm4 0h-2V7h2v10zm4 0h-2v-4h2v4z\"/>\n",
              "    </g>\n",
              "</svg>\n",
              "      </button>\n",
              "\n",
              "<style>\n",
              "  .colab-df-quickchart {\n",
              "      --bg-color: #E8F0FE;\n",
              "      --fill-color: #1967D2;\n",
              "      --hover-bg-color: #E2EBFA;\n",
              "      --hover-fill-color: #174EA6;\n",
              "      --disabled-fill-color: #AAA;\n",
              "      --disabled-bg-color: #DDD;\n",
              "  }\n",
              "\n",
              "  [theme=dark] .colab-df-quickchart {\n",
              "      --bg-color: #3B4455;\n",
              "      --fill-color: #D2E3FC;\n",
              "      --hover-bg-color: #434B5C;\n",
              "      --hover-fill-color: #FFFFFF;\n",
              "      --disabled-bg-color: #3B4455;\n",
              "      --disabled-fill-color: #666;\n",
              "  }\n",
              "\n",
              "  .colab-df-quickchart {\n",
              "    background-color: var(--bg-color);\n",
              "    border: none;\n",
              "    border-radius: 50%;\n",
              "    cursor: pointer;\n",
              "    display: none;\n",
              "    fill: var(--fill-color);\n",
              "    height: 32px;\n",
              "    padding: 0;\n",
              "    width: 32px;\n",
              "  }\n",
              "\n",
              "  .colab-df-quickchart:hover {\n",
              "    background-color: var(--hover-bg-color);\n",
              "    box-shadow: 0 1px 2px rgba(60, 64, 67, 0.3), 0 1px 3px 1px rgba(60, 64, 67, 0.15);\n",
              "    fill: var(--button-hover-fill-color);\n",
              "  }\n",
              "\n",
              "  .colab-df-quickchart-complete:disabled,\n",
              "  .colab-df-quickchart-complete:disabled:hover {\n",
              "    background-color: var(--disabled-bg-color);\n",
              "    fill: var(--disabled-fill-color);\n",
              "    box-shadow: none;\n",
              "  }\n",
              "\n",
              "  .colab-df-spinner {\n",
              "    border: 2px solid var(--fill-color);\n",
              "    border-color: transparent;\n",
              "    border-bottom-color: var(--fill-color);\n",
              "    animation:\n",
              "      spin 1s steps(1) infinite;\n",
              "  }\n",
              "\n",
              "  @keyframes spin {\n",
              "    0% {\n",
              "      border-color: transparent;\n",
              "      border-bottom-color: var(--fill-color);\n",
              "      border-left-color: var(--fill-color);\n",
              "    }\n",
              "    20% {\n",
              "      border-color: transparent;\n",
              "      border-left-color: var(--fill-color);\n",
              "      border-top-color: var(--fill-color);\n",
              "    }\n",
              "    30% {\n",
              "      border-color: transparent;\n",
              "      border-left-color: var(--fill-color);\n",
              "      border-top-color: var(--fill-color);\n",
              "      border-right-color: var(--fill-color);\n",
              "    }\n",
              "    40% {\n",
              "      border-color: transparent;\n",
              "      border-right-color: var(--fill-color);\n",
              "      border-top-color: var(--fill-color);\n",
              "    }\n",
              "    60% {\n",
              "      border-color: transparent;\n",
              "      border-right-color: var(--fill-color);\n",
              "    }\n",
              "    80% {\n",
              "      border-color: transparent;\n",
              "      border-right-color: var(--fill-color);\n",
              "      border-bottom-color: var(--fill-color);\n",
              "    }\n",
              "    90% {\n",
              "      border-color: transparent;\n",
              "      border-bottom-color: var(--fill-color);\n",
              "    }\n",
              "  }\n",
              "</style>\n",
              "\n",
              "      <script>\n",
              "        async function quickchart(key) {\n",
              "          const quickchartButtonEl =\n",
              "            document.querySelector('#' + key + ' button');\n",
              "          quickchartButtonEl.disabled = true;  // To prevent multiple clicks.\n",
              "          quickchartButtonEl.classList.add('colab-df-spinner');\n",
              "          try {\n",
              "            const charts = await google.colab.kernel.invokeFunction(\n",
              "                'suggestCharts', [key], {});\n",
              "          } catch (error) {\n",
              "            console.error('Error during call to suggestCharts:', error);\n",
              "          }\n",
              "          quickchartButtonEl.classList.remove('colab-df-spinner');\n",
              "          quickchartButtonEl.classList.add('colab-df-quickchart-complete');\n",
              "        }\n",
              "        (() => {\n",
              "          let quickchartButtonEl =\n",
              "            document.querySelector('#df-3a74d258-b8f1-4ab7-8fc1-3074da0ac6a6 button');\n",
              "          quickchartButtonEl.style.display =\n",
              "            google.colab.kernel.accessAllowed ? 'block' : 'none';\n",
              "        })();\n",
              "      </script>\n",
              "    </div>\n",
              "\n",
              "    </div>\n",
              "  </div>\n"
            ],
            "application/vnd.google.colaboratory.intrinsic+json": {
              "type": "dataframe",
              "summary": "{\n  \"name\": \"df = pd\",\n  \"rows\": 5,\n  \"fields\": [\n    {\n      \"column\": \"OrderID\",\n      \"properties\": {\n        \"dtype\": \"string\",\n        \"num_unique_values\": 5,\n        \"samples\": [\n          \"ORD-1002\",\n          \"ORD-1005\",\n          \"ORD-1003\"\n        ],\n        \"semantic_type\": \"\",\n        \"description\": \"\"\n      }\n    },\n    {\n      \"column\": \"Date\",\n      \"properties\": {\n        \"dtype\": \"object\",\n        \"num_unique_values\": 5,\n        \"samples\": [\n          \"2025-01-29\",\n          \"2025-03-13\",\n          \"2025-03-17\"\n        ],\n        \"semantic_type\": \"\",\n        \"description\": \"\"\n      }\n    },\n    {\n      \"column\": \"Customer\",\n      \"properties\": {\n        \"dtype\": \"string\",\n        \"num_unique_values\": 5,\n        \"samples\": [\n          \"CUST-48\",\n          \"CUST-46\",\n          \"CUST-3\"\n        ],\n        \"semantic_type\": \"\",\n        \"description\": \"\"\n      }\n    },\n    {\n      \"column\": \"City\",\n      \"properties\": {\n        \"dtype\": \"string\",\n        \"num_unique_values\": 3,\n        \"samples\": [\n          \"Irbid\",\n          \"Amman\",\n          \"Madaba\"\n        ],\n        \"semantic_type\": \"\",\n        \"description\": \"\"\n      }\n    },\n    {\n      \"column\": \"Product\",\n      \"properties\": {\n        \"dtype\": \"string\",\n        \"num_unique_values\": 3,\n        \"samples\": [\n          \"Laptop\",\n          \"Phone\",\n          \"Notebook\"\n        ],\n        \"semantic_type\": \"\",\n        \"description\": \"\"\n      }\n    },\n    {\n      \"column\": \"Category\",\n      \"properties\": {\n        \"dtype\": \"category\",\n        \"num_unique_values\": 2,\n        \"samples\": [\n          \"Stationery\",\n          \"Electronics\"\n        ],\n        \"semantic_type\": \"\",\n        \"description\": \"\"\n      }\n    },\n    {\n      \"column\": \"Units\",\n      \"properties\": {\n        \"dtype\": \"number\",\n        \"std\": 0,\n        \"min\": 1,\n        \"max\": 3,\n        \"num_unique_values\": 3,\n        \"samples\": [\n          2,\n          3\n        ],\n        \"semantic_type\": \"\",\n        \"description\": \"\"\n      }\n    },\n    {\n      \"column\": \"UnitPrice\",\n      \"properties\": {\n        \"dtype\": \"string\",\n        \"num_unique_values\": 5,\n        \"samples\": [\n          \"47.32\",\n          \"52.07\"\n        ],\n        \"semantic_type\": \"\",\n        \"description\": \"\"\n      }\n    },\n    {\n      \"column\": \"Discount\",\n      \"properties\": {\n        \"dtype\": \"number\",\n        \"std\": 0.04827007354458868,\n        \"min\": 0.05,\n        \"max\": 0.18,\n        \"num_unique_values\": 4,\n        \"samples\": [\n          0.09,\n          0.12\n        ],\n        \"semantic_type\": \"\",\n        \"description\": \"\"\n      }\n    },\n    {\n      \"column\": \"DeliveryDays\",\n      \"properties\": {\n        \"dtype\": \"number\",\n        \"std\": 1,\n        \"min\": 1,\n        \"max\": 4,\n        \"num_unique_values\": 3,\n        \"samples\": [\n          1,\n          2\n        ],\n        \"semantic_type\": \"\",\n        \"description\": \"\"\n      }\n    },\n    {\n      \"column\": \"Channel\",\n      \"properties\": {\n        \"dtype\": \"category\",\n        \"num_unique_values\": 2,\n        \"samples\": [\n          \"In-Store\",\n          \"Online\"\n        ],\n        \"semantic_type\": \"\",\n        \"description\": \"\"\n      }\n    }\n  ]\n}"
            }
          },
          "metadata": {},
          "execution_count": 9
        }
      ],
      "source": [
        "df = pd.read_csv(\"sales_data.csv\"); df.head()"
      ],
      "id": "HV2EIkRTx3Vq"
    },
    {
      "cell_type": "markdown",
      "metadata": {
        "id": "Tm8kQaNIx3Vq"
      },
      "source": [
        "**ناتج متوقع:** ظهور أول 5 صفوف.  \n",
        "**تنبيه:** خطأ **FileNotFoundError** يعني أن المسار غير صحيح أو الملف غير مرفوع.\n"
      ],
      "id": "Tm8kQaNIx3Vq"
    },
    {
      "cell_type": "markdown",
      "metadata": {
        "id": "s37dL4CEx3Vq"
      },
      "source": [
        "### فحص الشكل والأنواع\n",
        "**المفهوم:** معرفة حجم الجدول وأنواع الأعمدة خطوة تشخيصية مبكرة.  \n",
        "**لماذا؟** تساعدنا على تحديد أعمدة تحتاج تنظيفًا (مثلاً عمود رقمي مخزن كنص).  \n",
        "**كيف؟** `shape` تُرجع (عدد الصفوف، عدد الأعمدة) و`dtypes` تُظهر نوع كل عمود.\n"
      ],
      "id": "s37dL4CEx3Vq"
    },
    {
      "cell_type": "code",
      "metadata": {
        "id": "hKgdK22Px3Vq",
        "colab": {
          "base_uri": "https://localhost:8080/"
        },
        "outputId": "c5ea647e-71cf-4585-c86f-317e734f7b67"
      },
      "execution_count": null,
      "outputs": [
        {
          "output_type": "execute_result",
          "data": {
            "text/plain": [
              "((200, 11),\n",
              " OrderID          object\n",
              " Date             object\n",
              " Customer         object\n",
              " City             object\n",
              " Product          object\n",
              " Category         object\n",
              " Units             int64\n",
              " UnitPrice        object\n",
              " Discount        float64\n",
              " DeliveryDays      int64\n",
              " Channel          object\n",
              " dtype: object)"
            ]
          },
          "metadata": {},
          "execution_count": 10
        }
      ],
      "source": [
        "df.shape, df.dtypes"
      ],
      "id": "hKgdK22Px3Vq"
    },
    {
      "cell_type": "markdown",
      "metadata": {
        "id": "ReZ9EMdJx3Vr"
      },
      "source": [
        "**تنبيه:** إذا كان عمود سعري يظهر كـ **object** فغالبًا يحتوي نصوصًا مثل \"??\".\n"
      ],
      "id": "ReZ9EMdJx3Vr"
    },
    {
      "cell_type": "markdown",
      "metadata": {
        "id": "YKRnMRAix3Vr"
      },
      "source": [
        "### معاينة إحصائية سريعة\n",
        "**المفهوم:** تصوير سريع للبيانات يشبه \"أشعة سينية\".  \n",
        "**لماذا؟** لاكتشاف نطاقات غير منطقية أو تباينات كبيرة قبل التحليل العميق.  \n",
        "**كيف؟** `describe(include=\"all\")` يعطي ملخصًا للأعمدة الرقمية والنصية.\n"
      ],
      "id": "YKRnMRAix3Vr"
    },
    {
      "cell_type": "code",
      "metadata": {
        "id": "R_rtCkFbx3Vr",
        "colab": {
          "base_uri": "https://localhost:8080/",
          "height": 394
        },
        "outputId": "15feebf0-5288-4bdd-f809-9e92cd77ebf9"
      },
      "execution_count": null,
      "outputs": [
        {
          "output_type": "execute_result",
          "data": {
            "text/plain": [
              "         OrderID        Date Customer   City Product     Category       Units  \\\n",
              "count        200         200      200    200     200          200  200.000000   \n",
              "unique       200          83       50      5       6            3         NaN   \n",
              "top     ORD-1001  2025-02-03  CUST-38  Irbid   Phone  Electronics         NaN   \n",
              "freq           1           7        8     52      37          131         NaN   \n",
              "mean         NaN         NaN      NaN    NaN     NaN          NaN    2.760000   \n",
              "std          NaN         NaN      NaN    NaN     NaN          NaN    1.557088   \n",
              "min          NaN         NaN      NaN    NaN     NaN          NaN    1.000000   \n",
              "25%          NaN         NaN      NaN    NaN     NaN          NaN    1.000000   \n",
              "50%          NaN         NaN      NaN    NaN     NaN          NaN    3.000000   \n",
              "75%          NaN         NaN      NaN    NaN     NaN          NaN    4.000000   \n",
              "max          NaN         NaN      NaN    NaN     NaN          NaN    8.000000   \n",
              "\n",
              "       UnitPrice    Discount  DeliveryDays   Channel  \n",
              "count        200  190.000000    200.000000       200  \n",
              "unique       190         NaN           NaN         2  \n",
              "top           ??         NaN           NaN  In-Store  \n",
              "freq           5         NaN           NaN       108  \n",
              "mean         NaN    0.100895      2.465000       NaN  \n",
              "std          NaN    0.048005      0.955689       NaN  \n",
              "min          NaN    0.000000      1.000000       NaN  \n",
              "25%          NaN    0.070000      2.000000       NaN  \n",
              "50%          NaN    0.090000      2.000000       NaN  \n",
              "75%          NaN    0.140000      3.000000       NaN  \n",
              "max          NaN    0.240000      6.000000       NaN  "
            ],
            "text/html": [
              "\n",
              "  <div id=\"df-8203b3e6-7b31-437d-b3a5-cbb42f5dc877\" class=\"colab-df-container\">\n",
              "    <div>\n",
              "<style scoped>\n",
              "    .dataframe tbody tr th:only-of-type {\n",
              "        vertical-align: middle;\n",
              "    }\n",
              "\n",
              "    .dataframe tbody tr th {\n",
              "        vertical-align: top;\n",
              "    }\n",
              "\n",
              "    .dataframe thead th {\n",
              "        text-align: right;\n",
              "    }\n",
              "</style>\n",
              "<table border=\"1\" class=\"dataframe\">\n",
              "  <thead>\n",
              "    <tr style=\"text-align: right;\">\n",
              "      <th></th>\n",
              "      <th>OrderID</th>\n",
              "      <th>Date</th>\n",
              "      <th>Customer</th>\n",
              "      <th>City</th>\n",
              "      <th>Product</th>\n",
              "      <th>Category</th>\n",
              "      <th>Units</th>\n",
              "      <th>UnitPrice</th>\n",
              "      <th>Discount</th>\n",
              "      <th>DeliveryDays</th>\n",
              "      <th>Channel</th>\n",
              "    </tr>\n",
              "  </thead>\n",
              "  <tbody>\n",
              "    <tr>\n",
              "      <th>count</th>\n",
              "      <td>200</td>\n",
              "      <td>200</td>\n",
              "      <td>200</td>\n",
              "      <td>200</td>\n",
              "      <td>200</td>\n",
              "      <td>200</td>\n",
              "      <td>200.000000</td>\n",
              "      <td>200</td>\n",
              "      <td>190.000000</td>\n",
              "      <td>200.000000</td>\n",
              "      <td>200</td>\n",
              "    </tr>\n",
              "    <tr>\n",
              "      <th>unique</th>\n",
              "      <td>200</td>\n",
              "      <td>83</td>\n",
              "      <td>50</td>\n",
              "      <td>5</td>\n",
              "      <td>6</td>\n",
              "      <td>3</td>\n",
              "      <td>NaN</td>\n",
              "      <td>190</td>\n",
              "      <td>NaN</td>\n",
              "      <td>NaN</td>\n",
              "      <td>2</td>\n",
              "    </tr>\n",
              "    <tr>\n",
              "      <th>top</th>\n",
              "      <td>ORD-1001</td>\n",
              "      <td>2025-02-03</td>\n",
              "      <td>CUST-38</td>\n",
              "      <td>Irbid</td>\n",
              "      <td>Phone</td>\n",
              "      <td>Electronics</td>\n",
              "      <td>NaN</td>\n",
              "      <td>??</td>\n",
              "      <td>NaN</td>\n",
              "      <td>NaN</td>\n",
              "      <td>In-Store</td>\n",
              "    </tr>\n",
              "    <tr>\n",
              "      <th>freq</th>\n",
              "      <td>1</td>\n",
              "      <td>7</td>\n",
              "      <td>8</td>\n",
              "      <td>52</td>\n",
              "      <td>37</td>\n",
              "      <td>131</td>\n",
              "      <td>NaN</td>\n",
              "      <td>5</td>\n",
              "      <td>NaN</td>\n",
              "      <td>NaN</td>\n",
              "      <td>108</td>\n",
              "    </tr>\n",
              "    <tr>\n",
              "      <th>mean</th>\n",
              "      <td>NaN</td>\n",
              "      <td>NaN</td>\n",
              "      <td>NaN</td>\n",
              "      <td>NaN</td>\n",
              "      <td>NaN</td>\n",
              "      <td>NaN</td>\n",
              "      <td>2.760000</td>\n",
              "      <td>NaN</td>\n",
              "      <td>0.100895</td>\n",
              "      <td>2.465000</td>\n",
              "      <td>NaN</td>\n",
              "    </tr>\n",
              "    <tr>\n",
              "      <th>std</th>\n",
              "      <td>NaN</td>\n",
              "      <td>NaN</td>\n",
              "      <td>NaN</td>\n",
              "      <td>NaN</td>\n",
              "      <td>NaN</td>\n",
              "      <td>NaN</td>\n",
              "      <td>1.557088</td>\n",
              "      <td>NaN</td>\n",
              "      <td>0.048005</td>\n",
              "      <td>0.955689</td>\n",
              "      <td>NaN</td>\n",
              "    </tr>\n",
              "    <tr>\n",
              "      <th>min</th>\n",
              "      <td>NaN</td>\n",
              "      <td>NaN</td>\n",
              "      <td>NaN</td>\n",
              "      <td>NaN</td>\n",
              "      <td>NaN</td>\n",
              "      <td>NaN</td>\n",
              "      <td>1.000000</td>\n",
              "      <td>NaN</td>\n",
              "      <td>0.000000</td>\n",
              "      <td>1.000000</td>\n",
              "      <td>NaN</td>\n",
              "    </tr>\n",
              "    <tr>\n",
              "      <th>25%</th>\n",
              "      <td>NaN</td>\n",
              "      <td>NaN</td>\n",
              "      <td>NaN</td>\n",
              "      <td>NaN</td>\n",
              "      <td>NaN</td>\n",
              "      <td>NaN</td>\n",
              "      <td>1.000000</td>\n",
              "      <td>NaN</td>\n",
              "      <td>0.070000</td>\n",
              "      <td>2.000000</td>\n",
              "      <td>NaN</td>\n",
              "    </tr>\n",
              "    <tr>\n",
              "      <th>50%</th>\n",
              "      <td>NaN</td>\n",
              "      <td>NaN</td>\n",
              "      <td>NaN</td>\n",
              "      <td>NaN</td>\n",
              "      <td>NaN</td>\n",
              "      <td>NaN</td>\n",
              "      <td>3.000000</td>\n",
              "      <td>NaN</td>\n",
              "      <td>0.090000</td>\n",
              "      <td>2.000000</td>\n",
              "      <td>NaN</td>\n",
              "    </tr>\n",
              "    <tr>\n",
              "      <th>75%</th>\n",
              "      <td>NaN</td>\n",
              "      <td>NaN</td>\n",
              "      <td>NaN</td>\n",
              "      <td>NaN</td>\n",
              "      <td>NaN</td>\n",
              "      <td>NaN</td>\n",
              "      <td>4.000000</td>\n",
              "      <td>NaN</td>\n",
              "      <td>0.140000</td>\n",
              "      <td>3.000000</td>\n",
              "      <td>NaN</td>\n",
              "    </tr>\n",
              "    <tr>\n",
              "      <th>max</th>\n",
              "      <td>NaN</td>\n",
              "      <td>NaN</td>\n",
              "      <td>NaN</td>\n",
              "      <td>NaN</td>\n",
              "      <td>NaN</td>\n",
              "      <td>NaN</td>\n",
              "      <td>8.000000</td>\n",
              "      <td>NaN</td>\n",
              "      <td>0.240000</td>\n",
              "      <td>6.000000</td>\n",
              "      <td>NaN</td>\n",
              "    </tr>\n",
              "  </tbody>\n",
              "</table>\n",
              "</div>\n",
              "    <div class=\"colab-df-buttons\">\n",
              "\n",
              "  <div class=\"colab-df-container\">\n",
              "    <button class=\"colab-df-convert\" onclick=\"convertToInteractive('df-8203b3e6-7b31-437d-b3a5-cbb42f5dc877')\"\n",
              "            title=\"Convert this dataframe to an interactive table.\"\n",
              "            style=\"display:none;\">\n",
              "\n",
              "  <svg xmlns=\"http://www.w3.org/2000/svg\" height=\"24px\" viewBox=\"0 -960 960 960\">\n",
              "    <path d=\"M120-120v-720h720v720H120Zm60-500h600v-160H180v160Zm220 220h160v-160H400v160Zm0 220h160v-160H400v160ZM180-400h160v-160H180v160Zm440 0h160v-160H620v160ZM180-180h160v-160H180v160Zm440 0h160v-160H620v160Z\"/>\n",
              "  </svg>\n",
              "    </button>\n",
              "\n",
              "  <style>\n",
              "    .colab-df-container {\n",
              "      display:flex;\n",
              "      gap: 12px;\n",
              "    }\n",
              "\n",
              "    .colab-df-convert {\n",
              "      background-color: #E8F0FE;\n",
              "      border: none;\n",
              "      border-radius: 50%;\n",
              "      cursor: pointer;\n",
              "      display: none;\n",
              "      fill: #1967D2;\n",
              "      height: 32px;\n",
              "      padding: 0 0 0 0;\n",
              "      width: 32px;\n",
              "    }\n",
              "\n",
              "    .colab-df-convert:hover {\n",
              "      background-color: #E2EBFA;\n",
              "      box-shadow: 0px 1px 2px rgba(60, 64, 67, 0.3), 0px 1px 3px 1px rgba(60, 64, 67, 0.15);\n",
              "      fill: #174EA6;\n",
              "    }\n",
              "\n",
              "    .colab-df-buttons div {\n",
              "      margin-bottom: 4px;\n",
              "    }\n",
              "\n",
              "    [theme=dark] .colab-df-convert {\n",
              "      background-color: #3B4455;\n",
              "      fill: #D2E3FC;\n",
              "    }\n",
              "\n",
              "    [theme=dark] .colab-df-convert:hover {\n",
              "      background-color: #434B5C;\n",
              "      box-shadow: 0px 1px 3px 1px rgba(0, 0, 0, 0.15);\n",
              "      filter: drop-shadow(0px 1px 2px rgba(0, 0, 0, 0.3));\n",
              "      fill: #FFFFFF;\n",
              "    }\n",
              "  </style>\n",
              "\n",
              "    <script>\n",
              "      const buttonEl =\n",
              "        document.querySelector('#df-8203b3e6-7b31-437d-b3a5-cbb42f5dc877 button.colab-df-convert');\n",
              "      buttonEl.style.display =\n",
              "        google.colab.kernel.accessAllowed ? 'block' : 'none';\n",
              "\n",
              "      async function convertToInteractive(key) {\n",
              "        const element = document.querySelector('#df-8203b3e6-7b31-437d-b3a5-cbb42f5dc877');\n",
              "        const dataTable =\n",
              "          await google.colab.kernel.invokeFunction('convertToInteractive',\n",
              "                                                    [key], {});\n",
              "        if (!dataTable) return;\n",
              "\n",
              "        const docLinkHtml = 'Like what you see? Visit the ' +\n",
              "          '<a target=\"_blank\" href=https://colab.research.google.com/notebooks/data_table.ipynb>data table notebook</a>'\n",
              "          + ' to learn more about interactive tables.';\n",
              "        element.innerHTML = '';\n",
              "        dataTable['output_type'] = 'display_data';\n",
              "        await google.colab.output.renderOutput(dataTable, element);\n",
              "        const docLink = document.createElement('div');\n",
              "        docLink.innerHTML = docLinkHtml;\n",
              "        element.appendChild(docLink);\n",
              "      }\n",
              "    </script>\n",
              "  </div>\n",
              "\n",
              "\n",
              "    <div id=\"df-7c30d445-5857-47b2-84f4-94c7b1ec732b\">\n",
              "      <button class=\"colab-df-quickchart\" onclick=\"quickchart('df-7c30d445-5857-47b2-84f4-94c7b1ec732b')\"\n",
              "                title=\"Suggest charts\"\n",
              "                style=\"display:none;\">\n",
              "\n",
              "<svg xmlns=\"http://www.w3.org/2000/svg\" height=\"24px\"viewBox=\"0 0 24 24\"\n",
              "     width=\"24px\">\n",
              "    <g>\n",
              "        <path d=\"M19 3H5c-1.1 0-2 .9-2 2v14c0 1.1.9 2 2 2h14c1.1 0 2-.9 2-2V5c0-1.1-.9-2-2-2zM9 17H7v-7h2v7zm4 0h-2V7h2v10zm4 0h-2v-4h2v4z\"/>\n",
              "    </g>\n",
              "</svg>\n",
              "      </button>\n",
              "\n",
              "<style>\n",
              "  .colab-df-quickchart {\n",
              "      --bg-color: #E8F0FE;\n",
              "      --fill-color: #1967D2;\n",
              "      --hover-bg-color: #E2EBFA;\n",
              "      --hover-fill-color: #174EA6;\n",
              "      --disabled-fill-color: #AAA;\n",
              "      --disabled-bg-color: #DDD;\n",
              "  }\n",
              "\n",
              "  [theme=dark] .colab-df-quickchart {\n",
              "      --bg-color: #3B4455;\n",
              "      --fill-color: #D2E3FC;\n",
              "      --hover-bg-color: #434B5C;\n",
              "      --hover-fill-color: #FFFFFF;\n",
              "      --disabled-bg-color: #3B4455;\n",
              "      --disabled-fill-color: #666;\n",
              "  }\n",
              "\n",
              "  .colab-df-quickchart {\n",
              "    background-color: var(--bg-color);\n",
              "    border: none;\n",
              "    border-radius: 50%;\n",
              "    cursor: pointer;\n",
              "    display: none;\n",
              "    fill: var(--fill-color);\n",
              "    height: 32px;\n",
              "    padding: 0;\n",
              "    width: 32px;\n",
              "  }\n",
              "\n",
              "  .colab-df-quickchart:hover {\n",
              "    background-color: var(--hover-bg-color);\n",
              "    box-shadow: 0 1px 2px rgba(60, 64, 67, 0.3), 0 1px 3px 1px rgba(60, 64, 67, 0.15);\n",
              "    fill: var(--button-hover-fill-color);\n",
              "  }\n",
              "\n",
              "  .colab-df-quickchart-complete:disabled,\n",
              "  .colab-df-quickchart-complete:disabled:hover {\n",
              "    background-color: var(--disabled-bg-color);\n",
              "    fill: var(--disabled-fill-color);\n",
              "    box-shadow: none;\n",
              "  }\n",
              "\n",
              "  .colab-df-spinner {\n",
              "    border: 2px solid var(--fill-color);\n",
              "    border-color: transparent;\n",
              "    border-bottom-color: var(--fill-color);\n",
              "    animation:\n",
              "      spin 1s steps(1) infinite;\n",
              "  }\n",
              "\n",
              "  @keyframes spin {\n",
              "    0% {\n",
              "      border-color: transparent;\n",
              "      border-bottom-color: var(--fill-color);\n",
              "      border-left-color: var(--fill-color);\n",
              "    }\n",
              "    20% {\n",
              "      border-color: transparent;\n",
              "      border-left-color: var(--fill-color);\n",
              "      border-top-color: var(--fill-color);\n",
              "    }\n",
              "    30% {\n",
              "      border-color: transparent;\n",
              "      border-left-color: var(--fill-color);\n",
              "      border-top-color: var(--fill-color);\n",
              "      border-right-color: var(--fill-color);\n",
              "    }\n",
              "    40% {\n",
              "      border-color: transparent;\n",
              "      border-right-color: var(--fill-color);\n",
              "      border-top-color: var(--fill-color);\n",
              "    }\n",
              "    60% {\n",
              "      border-color: transparent;\n",
              "      border-right-color: var(--fill-color);\n",
              "    }\n",
              "    80% {\n",
              "      border-color: transparent;\n",
              "      border-right-color: var(--fill-color);\n",
              "      border-bottom-color: var(--fill-color);\n",
              "    }\n",
              "    90% {\n",
              "      border-color: transparent;\n",
              "      border-bottom-color: var(--fill-color);\n",
              "    }\n",
              "  }\n",
              "</style>\n",
              "\n",
              "      <script>\n",
              "        async function quickchart(key) {\n",
              "          const quickchartButtonEl =\n",
              "            document.querySelector('#' + key + ' button');\n",
              "          quickchartButtonEl.disabled = true;  // To prevent multiple clicks.\n",
              "          quickchartButtonEl.classList.add('colab-df-spinner');\n",
              "          try {\n",
              "            const charts = await google.colab.kernel.invokeFunction(\n",
              "                'suggestCharts', [key], {});\n",
              "          } catch (error) {\n",
              "            console.error('Error during call to suggestCharts:', error);\n",
              "          }\n",
              "          quickchartButtonEl.classList.remove('colab-df-spinner');\n",
              "          quickchartButtonEl.classList.add('colab-df-quickchart-complete');\n",
              "        }\n",
              "        (() => {\n",
              "          let quickchartButtonEl =\n",
              "            document.querySelector('#df-7c30d445-5857-47b2-84f4-94c7b1ec732b button');\n",
              "          quickchartButtonEl.style.display =\n",
              "            google.colab.kernel.accessAllowed ? 'block' : 'none';\n",
              "        })();\n",
              "      </script>\n",
              "    </div>\n",
              "\n",
              "    </div>\n",
              "  </div>\n"
            ],
            "application/vnd.google.colaboratory.intrinsic+json": {
              "type": "dataframe",
              "summary": "{\n  \"name\": \"df\",\n  \"rows\": 11,\n  \"fields\": [\n    {\n      \"column\": \"OrderID\",\n      \"properties\": {\n        \"dtype\": \"category\",\n        \"num_unique_values\": 3,\n        \"samples\": [\n          \"200\",\n          \"ORD-1001\",\n          \"1\"\n        ],\n        \"semantic_type\": \"\",\n        \"description\": \"\"\n      }\n    },\n    {\n      \"column\": \"Date\",\n      \"properties\": {\n        \"dtype\": \"date\",\n        \"min\": \"1970-01-01 00:00:00.000000007\",\n        \"max\": \"2025-02-03 00:00:00\",\n        \"num_unique_values\": 4,\n        \"samples\": [\n          83,\n          \"7\",\n          \"200\"\n        ],\n        \"semantic_type\": \"\",\n        \"description\": \"\"\n      }\n    },\n    {\n      \"column\": \"Customer\",\n      \"properties\": {\n        \"dtype\": \"category\",\n        \"num_unique_values\": 4,\n        \"samples\": [\n          50,\n          \"8\",\n          \"200\"\n        ],\n        \"semantic_type\": \"\",\n        \"description\": \"\"\n      }\n    },\n    {\n      \"column\": \"City\",\n      \"properties\": {\n        \"dtype\": \"category\",\n        \"num_unique_values\": 4,\n        \"samples\": [\n          5,\n          \"52\",\n          \"200\"\n        ],\n        \"semantic_type\": \"\",\n        \"description\": \"\"\n      }\n    },\n    {\n      \"column\": \"Product\",\n      \"properties\": {\n        \"dtype\": \"category\",\n        \"num_unique_values\": 4,\n        \"samples\": [\n          6,\n          \"37\",\n          \"200\"\n        ],\n        \"semantic_type\": \"\",\n        \"description\": \"\"\n      }\n    },\n    {\n      \"column\": \"Category\",\n      \"properties\": {\n        \"dtype\": \"category\",\n        \"num_unique_values\": 4,\n        \"samples\": [\n          3,\n          \"131\",\n          \"200\"\n        ],\n        \"semantic_type\": \"\",\n        \"description\": \"\"\n      }\n    },\n    {\n      \"column\": \"Units\",\n      \"properties\": {\n        \"dtype\": \"number\",\n        \"std\": 69.67104896798327,\n        \"min\": 1.0,\n        \"max\": 200.0,\n        \"num_unique_values\": 7,\n        \"samples\": [\n          200.0,\n          2.76,\n          4.0\n        ],\n        \"semantic_type\": \"\",\n        \"description\": \"\"\n      }\n    },\n    {\n      \"column\": \"UnitPrice\",\n      \"properties\": {\n        \"dtype\": \"category\",\n        \"num_unique_values\": 4,\n        \"samples\": [\n          190,\n          \"5\",\n          \"200\"\n        ],\n        \"semantic_type\": \"\",\n        \"description\": \"\"\n      }\n    },\n    {\n      \"column\": \"Discount\",\n      \"properties\": {\n        \"dtype\": \"number\",\n        \"std\": 67.14038663321631,\n        \"min\": 0.0,\n        \"max\": 190.0,\n        \"num_unique_values\": 8,\n        \"samples\": [\n          0.10089473684210527,\n          0.09,\n          190.0\n        ],\n        \"semantic_type\": \"\",\n        \"description\": \"\"\n      }\n    },\n    {\n      \"column\": \"DeliveryDays\",\n      \"properties\": {\n        \"dtype\": \"number\",\n        \"std\": 69.84883684390014,\n        \"min\": 0.9556891275633064,\n        \"max\": 200.0,\n        \"num_unique_values\": 7,\n        \"samples\": [\n          200.0,\n          2.465,\n          3.0\n        ],\n        \"semantic_type\": \"\",\n        \"description\": \"\"\n      }\n    },\n    {\n      \"column\": \"Channel\",\n      \"properties\": {\n        \"dtype\": \"category\",\n        \"num_unique_values\": 4,\n        \"samples\": [\n          2,\n          \"108\",\n          \"200\"\n        ],\n        \"semantic_type\": \"\",\n        \"description\": \"\"\n      }\n    }\n  ]\n}"
            }
          },
          "metadata": {},
          "execution_count": 11
        }
      ],
      "source": [
        "df.describe(include=\"all\")"
      ],
      "id": "R_rtCkFbx3Vr"
    },
    {
      "cell_type": "markdown",
      "metadata": {
        "id": "2FIzqB5Jx3Vr"
      },
      "source": [
        "**ملاحظة:** `describe` لا يعرض القيم الفارغة؛ استخدم `df.isna().sum()` لمعرفتها.\n"
      ],
      "id": "2FIzqB5Jx3Vr"
    },
    {
      "cell_type": "markdown",
      "metadata": {
        "id": "xJ0rbIQlx3Vr"
      },
      "source": [
        "## 3) تنظيف البيانات وتحويل الأنواع\n",
        "### القيم المفقودة (Missing Values)\n",
        "**المفهوم:** خلايا بلا بيانات (NaN) قد تُفسد الحسابات والرسوم.  \n",
        "**لماذا؟** المتوسطات والمخططات قد تصبح مضللة إن تجاهلنا الفراغات.  \n",
        "**كيف؟** نحصيها لكل عمود لتحديد الإستراتيجية المناسبة (تعويض/حذف).\n"
      ],
      "id": "xJ0rbIQlx3Vr"
    },
    {
      "cell_type": "code",
      "metadata": {
        "id": "htjL7Chkx3Vr",
        "colab": {
          "base_uri": "https://localhost:8080/",
          "height": 429
        },
        "outputId": "392bf6f5-fe06-4a2f-f41a-9d0791b78801"
      },
      "execution_count": null,
      "outputs": [
        {
          "output_type": "execute_result",
          "data": {
            "text/plain": [
              "OrderID          0\n",
              "Date             0\n",
              "Customer         0\n",
              "City             0\n",
              "Product          0\n",
              "Category         0\n",
              "Units            0\n",
              "UnitPrice        0\n",
              "Discount        10\n",
              "DeliveryDays     0\n",
              "Channel          0\n",
              "dtype: int64"
            ],
            "text/html": [
              "<div>\n",
              "<style scoped>\n",
              "    .dataframe tbody tr th:only-of-type {\n",
              "        vertical-align: middle;\n",
              "    }\n",
              "\n",
              "    .dataframe tbody tr th {\n",
              "        vertical-align: top;\n",
              "    }\n",
              "\n",
              "    .dataframe thead th {\n",
              "        text-align: right;\n",
              "    }\n",
              "</style>\n",
              "<table border=\"1\" class=\"dataframe\">\n",
              "  <thead>\n",
              "    <tr style=\"text-align: right;\">\n",
              "      <th></th>\n",
              "      <th>0</th>\n",
              "    </tr>\n",
              "  </thead>\n",
              "  <tbody>\n",
              "    <tr>\n",
              "      <th>OrderID</th>\n",
              "      <td>0</td>\n",
              "    </tr>\n",
              "    <tr>\n",
              "      <th>Date</th>\n",
              "      <td>0</td>\n",
              "    </tr>\n",
              "    <tr>\n",
              "      <th>Customer</th>\n",
              "      <td>0</td>\n",
              "    </tr>\n",
              "    <tr>\n",
              "      <th>City</th>\n",
              "      <td>0</td>\n",
              "    </tr>\n",
              "    <tr>\n",
              "      <th>Product</th>\n",
              "      <td>0</td>\n",
              "    </tr>\n",
              "    <tr>\n",
              "      <th>Category</th>\n",
              "      <td>0</td>\n",
              "    </tr>\n",
              "    <tr>\n",
              "      <th>Units</th>\n",
              "      <td>0</td>\n",
              "    </tr>\n",
              "    <tr>\n",
              "      <th>UnitPrice</th>\n",
              "      <td>0</td>\n",
              "    </tr>\n",
              "    <tr>\n",
              "      <th>Discount</th>\n",
              "      <td>10</td>\n",
              "    </tr>\n",
              "    <tr>\n",
              "      <th>DeliveryDays</th>\n",
              "      <td>0</td>\n",
              "    </tr>\n",
              "    <tr>\n",
              "      <th>Channel</th>\n",
              "      <td>0</td>\n",
              "    </tr>\n",
              "  </tbody>\n",
              "</table>\n",
              "</div><br><label><b>dtype:</b> int64</label>"
            ]
          },
          "metadata": {},
          "execution_count": 14
        }
      ],
      "source": [
        "df.isna().sum()"
      ],
      "id": "htjL7Chkx3Vr"
    },
    {
      "cell_type": "markdown",
      "metadata": {
        "id": "HzohOs5qx3Vr"
      },
      "source": [
        "**تنبيه:** لا تعالج كل الأعمدة بالطريقة نفسها؛ اختر ما يناسب سياق البيانات.\n"
      ],
      "id": "HzohOs5qx3Vr"
    },
    {
      "cell_type": "markdown",
      "metadata": {
        "id": "fOV5PCC0x3Vr"
      },
      "source": [
        "### تحويل النص إلى رقم\n",
        "**المفهوم:** أعمدة مثل السعر قد تحتوي نصوصًا غير رقمية (مثل \"??\").  \n",
        "**لماذا؟** العمليات الحسابية تتطلب أنواعًا رقمية صحيحة.  \n",
        "**كيف؟** نستعمل `to_numeric` مع `errors=\"coerce\"` لتحويل القيم غير الرقمية إلى NaN.\n"
      ],
      "id": "fOV5PCC0x3Vr"
    },
    {
      "cell_type": "code",
      "metadata": {
        "id": "HeqP-FE6x3Vr",
        "colab": {
          "base_uri": "https://localhost:8080/"
        },
        "outputId": "545993f0-dc03-407e-e449-d5cd464db410"
      },
      "execution_count": null,
      "outputs": [
        {
          "output_type": "stream",
          "name": "stdout",
          "text": [
            "0      82.61\n",
            "1      47.32\n",
            "2      40.47\n",
            "3      55.84\n",
            "4      52.07\n",
            "       ...  \n",
            "195    42.49\n",
            "196    42.69\n",
            "197    55.19\n",
            "198    41.64\n",
            "199    35.99\n",
            "Name: UnitPrice, Length: 195, dtype: float64\n",
            "0      82.61\n",
            "1      47.32\n",
            "2      40.47\n",
            "3      55.84\n",
            "4      52.07\n",
            "       ...  \n",
            "195    42.49\n",
            "196    42.69\n",
            "197    55.19\n",
            "198    41.64\n",
            "199    35.99\n",
            "Name: UnitPrice, Length: 195, dtype: float64\n"
          ]
        }
      ],
      "source": [
        "#print(df[\"UnitPrice\"])\n",
        "df[\"UnitPrice\"] = pd.to_numeric(df[\"UnitPrice\"], errors=\"coerce\")\n",
        "#print(df[\"UnitPrice\"])"
      ],
      "id": "HeqP-FE6x3Vr"
    },
    {
      "cell_type": "markdown",
      "metadata": {
        "id": "Ake7B54Xx3Vr"
      },
      "source": [
        "**تنبيه:** ستزداد قيم NaN بعد التحويل—عالجها فورًا بالتعويض أو الحذف.\n"
      ],
      "id": "Ake7B54Xx3Vr"
    },
    {
      "cell_type": "markdown",
      "metadata": {
        "id": "hPoJoaWqx3Vs"
      },
      "source": [
        "### تعويض/حذف المفقود\n",
        "**المفهوم:** اختيار إستراتيجية واضحة للتعامل مع NaN.  \n",
        "**لماذا؟** لتفادي تشويه النتائج أو تقليص العينة بشكل مفرط.  \n",
        "**كيف؟** مثال عملي: ملء الخصم بـ 0 وحذف الصفوف التي لا تصلح للتحليل.\n"
      ],
      "id": "hPoJoaWqx3Vs"
    },
    {
      "cell_type": "code",
      "metadata": {
        "id": "5ZZu8V6Ex3Vs",
        "colab": {
          "base_uri": "https://localhost:8080/"
        },
        "outputId": "bfad387e-d997-4690-c744-4d403aaedc1b"
      },
      "execution_count": null,
      "outputs": [
        {
          "output_type": "stream",
          "name": "stdout",
          "text": [
            "0      82.61\n",
            "1      47.32\n",
            "2      40.47\n",
            "3      55.84\n",
            "4      52.07\n",
            "       ...  \n",
            "195    42.49\n",
            "196    42.69\n",
            "197    55.19\n",
            "198    41.64\n",
            "199    35.99\n",
            "Name: UnitPrice, Length: 195, dtype: float64\n",
            "0      82.61\n",
            "1      47.32\n",
            "2      40.47\n",
            "3      55.84\n",
            "4      52.07\n",
            "       ...  \n",
            "195    42.49\n",
            "196    42.69\n",
            "197    55.19\n",
            "198    41.64\n",
            "199    35.99\n",
            "Name: UnitPrice, Length: 195, dtype: float64\n"
          ]
        }
      ],
      "source": [
        "#print(df[\"UnitPrice\"])\n",
        "df[\"Discount\"] = df[\"Discount\"].fillna(0); df = df.dropna(subset=[\"UnitPrice\"])\n",
        "#print(df[\"UnitPrice\"])"
      ],
      "id": "5ZZu8V6Ex3Vs"
    },
    {
      "cell_type": "markdown",
      "metadata": {
        "id": "s-dzB2ZVx3Vs"
      },
      "source": [
        "**تنبيه:** البدائل تشمل التعويض بالمتوسط/الوسيط حسب طبيعة العمود.\n"
      ],
      "id": "s-dzB2ZVx3Vs"
    },
    {
      "cell_type": "markdown",
      "metadata": {
        "id": "4ykv5djLx3Vs"
      },
      "source": [
        "### تحويل التاريخ\n",
        "**المفهوم:** التعامل مع التواريخ كتواريخ فعلية (datetime) لتمكين التحليل الزمني.  \n",
        "**لماذا؟** التجميع الزمني والرسم الخطي يتطلبان نوع تاريخ صحيح.  \n",
        "**كيف؟** نستخدم `to_datetime` مع معالجة الأخطاء.\n"
      ],
      "id": "4ykv5djLx3Vs"
    },
    {
      "cell_type": "code",
      "metadata": {
        "id": "QaXX_Usgx3Vs",
        "colab": {
          "base_uri": "https://localhost:8080/"
        },
        "outputId": "0337ee12-34e9-4f23-813d-225b1527a5c6"
      },
      "execution_count": null,
      "outputs": [
        {
          "output_type": "stream",
          "name": "stdout",
          "text": [
            "0      2025-03-23\n",
            "1      2025-01-29\n",
            "2      2025-03-17\n",
            "3      2025-01-28\n",
            "4      2025-03-13\n",
            "          ...    \n",
            "195    2025-03-02\n",
            "196    2025-03-27\n",
            "197    2025-03-30\n",
            "198    2025-02-28\n",
            "199    2025-01-15\n",
            "Name: Date, Length: 195, dtype: object\n",
            "0     2025-03-23\n",
            "1     2025-01-29\n",
            "2     2025-03-17\n",
            "3     2025-01-28\n",
            "4     2025-03-13\n",
            "         ...    \n",
            "195   2025-03-02\n",
            "196   2025-03-27\n",
            "197   2025-03-30\n",
            "198   2025-02-28\n",
            "199   2025-01-15\n",
            "Name: Date, Length: 195, dtype: datetime64[ns]\n"
          ]
        }
      ],
      "source": [
        "#print(df[\"Date\"])\n",
        "df[\"Date\"] = pd.to_datetime(df[\"Date\"], errors=\"coerce\")\n",
        "#print(df[\"Date\"])"
      ],
      "id": "QaXX_Usgx3Vs"
    },
    {
      "cell_type": "markdown",
      "metadata": {
        "id": "UJ3uAW51x3Vs"
      },
      "source": [
        "**تنبيه:** القيم غير الصالحة تصبح **NaT**؛ احذفها أو أصلح المصدر إن أمكن.\n"
      ],
      "id": "UJ3uAW51x3Vs"
    },
    {
      "cell_type": "markdown",
      "metadata": {
        "id": "5Jzb7h_ox3Vs"
      },
      "source": [
        "### تنظيف النصوص وإزالة التكرارات\n",
        "**المفهوم:** توحيد القيم النصية ومنع تكرار الصفوف.  \n",
        "**لماذا؟** المسافات الزائدة تعطي فروعًا وهمية، والتكرارات تضخم الأرقام.  \n",
        "**كيف؟** نزيل المسافات ونسقط الصفوف المكررة حسب مفتاح فريد.\n"
      ],
      "id": "5Jzb7h_ox3Vs"
    },
    {
      "cell_type": "code",
      "metadata": {
        "id": "umZrt6LCx3Vs",
        "colab": {
          "base_uri": "https://localhost:8080/"
        },
        "outputId": "71d1829a-eaa3-4ede-dcf6-a1a2e8e9df30"
      },
      "execution_count": null,
      "outputs": [
        {
          "output_type": "stream",
          "name": "stdout",
          "text": [
            "0       Irbid\n",
            "1       Amman\n",
            "2       Amman\n",
            "3      Madaba\n",
            "4      Madaba\n",
            "        ...  \n",
            "195     Irbid\n",
            "196     Irbid\n",
            "197     Aqaba\n",
            "198     Irbid\n",
            "199     Amman\n",
            "Name: City, Length: 195, dtype: object\n",
            "0       Irbid\n",
            "1       Amman\n",
            "2       Amman\n",
            "3      Madaba\n",
            "4      Madaba\n",
            "        ...  \n",
            "195     Irbid\n",
            "196     Irbid\n",
            "197     Aqaba\n",
            "198     Irbid\n",
            "199     Amman\n",
            "Name: City, Length: 195, dtype: object\n"
          ]
        }
      ],
      "source": [
        "#print(df[\"City\"])\n",
        "df[\"City\"] = df[\"City\"].str.strip(); df = df.drop_duplicates(subset=[\"OrderID\"])\n",
        "#print(df[\"City\"])"
      ],
      "id": "umZrt6LCx3Vs"
    },
    {
      "cell_type": "markdown",
      "metadata": {
        "id": "dyXFjJIDx3Vt"
      },
      "source": [
        "**تنبيه:** تأكد أن `OrderID` هو المعرّف الفريد الصحيح قبل الحذف.\n"
      ],
      "id": "dyXFjJIDx3Vt"
    },
    {
      "cell_type": "markdown",
      "metadata": {
        "id": "jJ6CpfiOx3Vt"
      },
      "source": [
        "## 4) إنشاء حقول ومؤشرات\n",
        "### الإيراد (Revenue)\n",
        "**المفهوم:** قيمة الطلب بعد تطبيق الخصم.  \n",
        "**لماذا؟** هو المؤشر الأساسي لمعظم التحليلات.  \n",
        "**كيف؟** نضرب عدد الوحدات في السعر ونطرح الخصم.\n"
      ],
      "id": "jJ6CpfiOx3Vt"
    },
    {
      "cell_type": "code",
      "metadata": {
        "id": "abK4E_u0x3Vt",
        "colab": {
          "base_uri": "https://localhost:8080/"
        },
        "outputId": "82e56bc2-6f22-4eba-bdfc-7c0df0ee0a8b"
      },
      "execution_count": null,
      "outputs": [
        {
          "output_type": "stream",
          "name": "stdout",
          "text": [
            "0      156.9590\n",
            "1       86.1224\n",
            "2       99.5562\n",
            "3       98.2784\n",
            "4       47.3837\n",
            "         ...   \n",
            "195    118.5471\n",
            "196    155.3916\n",
            "197     89.4078\n",
            "198     37.8924\n",
            "199    122.3660\n",
            "Name: Revenue, Length: 195, dtype: float64\n"
          ]
        }
      ],
      "source": [
        "df[\"Revenue\"] = df[\"Units\"] * df[\"UnitPrice\"] * (1 - df[\"Discount\"]) # REMEMBER EXCEL ?\n",
        "#print(df[\"Revenue\"])"
      ],
      "id": "abK4E_u0x3Vt"
    },
    {
      "cell_type": "markdown",
      "metadata": {
        "id": "kNc_ly47x3Vt"
      },
      "source": [
        "**تنبيه:** تأكد أن `Units` و`UnitPrice` أرقام لا نصوص.\n"
      ],
      "id": "kNc_ly47x3Vt"
    },
    {
      "cell_type": "markdown",
      "metadata": {
        "id": "GmIN4Moxx3Vt"
      },
      "source": [
        "### متوسط قيمة الطلب (AOV)\n",
        "**المفهوم:** متوسط الإيراد لكل طلب؛ مؤشر جودة الصفقة الواحدة.  \n",
        "**لماذا؟** يقيس عائدية الطلب النموذجي ويساعد في مقارنة القنوات/المدن.  \n",
        "**كيف؟** نأخذ المتوسط الحسابي لعمود `Revenue`.\n"
      ],
      "id": "GmIN4Moxx3Vt"
    },
    {
      "cell_type": "code",
      "metadata": {
        "id": "qATmMgInx3Vt",
        "colab": {
          "base_uri": "https://localhost:8080/"
        },
        "outputId": "79c9684f-7598-42e6-fba0-9cf0f747763c"
      },
      "execution_count": null,
      "outputs": [
        {
          "output_type": "execute_result",
          "data": {
            "text/plain": [
              "np.float64(123.82571743589745)"
            ]
          },
          "metadata": {},
          "execution_count": 34
        }
      ],
      "source": [
        "df[\"Revenue\"].mean()\n",
        "#print(df[\"Revenue\"].mean())"
      ],
      "id": "qATmMgInx3Vt"
    },
    {
      "cell_type": "markdown",
      "metadata": {
        "id": "a0vEg_RHx3Vx"
      },
      "source": [
        "**تنبيه:** قارن المتوسط بالوسيط عند وجود قيم شاذة كبيرة.\n"
      ],
      "id": "a0vEg_RHx3Vx"
    },
    {
      "cell_type": "markdown",
      "metadata": {
        "id": "SdRdDk_Gx3Vx"
      },
      "source": [
        "### ملخص وصفي للأعمدة المهمة\n",
        "**المفهوم:** مراجعة سريعة لنطاقات وحدود المؤشرات الرئيسية.  \n",
        "**لماذا؟** لاكتشاف خصومات غير منطقية أو أسعار خارجة عن النطاق.  \n",
        "**كيف؟** نستعرض `describe` لأهم الأعمدة الرقمية.\n"
      ],
      "id": "SdRdDk_Gx3Vx"
    },
    {
      "cell_type": "code",
      "metadata": {
        "id": "Xje4M6hux3Vy"
      },
      "execution_count": null,
      "outputs": [],
      "source": [
        "df[[\"Units\",\"UnitPrice\",\"Discount\",\"Revenue\"]].describe()\n"
      ],
      "id": "Xje4M6hux3Vy"
    },
    {
      "cell_type": "markdown",
      "metadata": {
        "id": "-TbRWRbbx3Vy"
      },
      "source": [
        "**تنبيه:** راقب الحد الأقصى/الأدنى غير المنطقي (خصم > 0.9 مثلًا).\n"
      ],
      "id": "-TbRWRbbx3Vy"
    },
    {
      "cell_type": "markdown",
      "metadata": {
        "id": "TKhG8vNYx3Vy"
      },
      "source": [
        "## 5) التصور البياني (Matplotlib)\n",
        "### توزيع الإيرادات (Histogram)\n",
        "**المفهوم:** رسم يوضح مدى انتشار القيم وتكتلها.  \n",
        "**لماذا؟** لمعرفة إذا كان التوزيع متوازنًا أو منحازًا.  \n",
        "**كيف؟** نرسم histogram لعمود `Revenue`.\n"
      ],
      "id": "TKhG8vNYx3Vy"
    },
    {
      "cell_type": "code",
      "metadata": {
        "id": "DaLmOrUFx3Vy",
        "colab": {
          "base_uri": "https://localhost:8080/",
          "height": 471
        },
        "outputId": "5c22304f-530a-4883-8f32-6bb60a917a79"
      },
      "execution_count": null,
      "outputs": [
        {
          "output_type": "display_data",
          "data": {
            "text/plain": [
              "<Figure size 640x480 with 1 Axes>"
            ],
            "image/png": "[encoded data removed]"
          },
          "metadata": {}
        }
      ],
      "source": [
        "df[\"Revenue\"].hist(bins=20); plt.title(\"توزيع الإيرادات\"); plt.xlabel(\"Revenue\"); plt.ylabel(\"Count\"); plt.show()\n"
      ],
      "id": "DaLmOrUFx3Vy"
    },
    {
      "cell_type": "markdown",
      "metadata": {
        "id": "8vqY9PKex3Vy"
      },
      "source": [
        "**تنبيه:** تغيير `bins` (مثلاً 10/30) قد يوضح الصورة أكثر أو أقل.\n"
      ],
      "id": "8vqY9PKex3Vy"
    },
    {
      "cell_type": "markdown",
      "metadata": {
        "id": "_Hzoa-3Kx3Vy"
      },
      "source": [
        "### أفضل المنتجات (Bar Chart)\n",
        "**المفهوم:** مقارنة إجمالي الإيراد بين المنتجات.  \n",
        "**لماذا؟** لتحديد المنتجات الأكثر مساهمة في الإيراد.  \n",
        "**كيف؟** نجمع الإيراد حسب المنتج ثم نرسم شريطًا.\n"
      ],
      "id": "_Hzoa-3Kx3Vy"
    },
    {
      "cell_type": "code",
      "metadata": {
        "id": "21yWU-QQx3Vy",
        "colab": {
          "base_uri": "https://localhost:8080/",
          "height": 544
        },
        "outputId": "056e9e7d-9cea-4b32-ed37-d296f0d3767f"
      },
      "execution_count": null,
      "outputs": [
        {
          "output_type": "display_data",
          "data": {
            "text/plain": [
              "<Figure size 640x480 with 1 Axes>"
            ],
            "image/png": "[encoded data removed]"
          },
          "metadata": {}
        }
      ],
      "source": [
        "df.groupby(\"Product\")[\"Revenue\"].sum().sort_values().plot.bar(); plt.title(\"إجمالي الإيراد حسب المنتج\"); plt.show()\n"
      ],
      "id": "21yWU-QQx3Vy"
    },
    {
      "cell_type": "markdown",
      "metadata": {
        "id": "BQHFCyElx3Vy"
      },
      "source": [
        "**تنبيه:** عند كثرة المنتجات اعرض Top-N فقط قبل الرسم.\n"
      ],
      "id": "BQHFCyElx3Vy"
    },
    {
      "cell_type": "markdown",
      "metadata": {
        "id": "L0ivztfVx3Vz"
      },
      "source": [
        "### الاتجاه الزمني (Line Chart)\n",
        "**المفهوم:** مراقبة تغير الإيراد مع مرور الوقت.  \n",
        "**لماذا؟** لاكتشاف ذروات أو هبوط موسمي.  \n",
        "**كيف؟** نجمع الإيراد يوميًا ونرسم خطًا.\n"
      ],
      "id": "L0ivztfVx3Vz"
    },
    {
      "cell_type": "code",
      "metadata": {
        "id": "TPHSUntdx3Vz",
        "colab": {
          "base_uri": "https://localhost:8080/",
          "height": 466
        },
        "outputId": "bfae07bc-4068-4b9e-9e11-0b04a45a8827"
      },
      "execution_count": null,
      "outputs": [
        {
          "output_type": "display_data",
          "data": {
            "text/plain": [
              "<Figure size 640x480 with 1 Axes>"
            ],
            "image/png": "[encoded data removed]"
          },
          "metadata": {}
        }
      ],
      "source": [
        "df.groupby(\"Date\")[\"Revenue\"].sum().plot(); plt.title(\"الاتجاه الزمني للإيراد اليومي\"); plt.xlabel(\"Date\"); plt.ylabel(\"Revenue\"); plt.show()\n"
      ],
      "id": "TPHSUntdx3Vz"
    },
    {
      "cell_type": "markdown",
      "metadata": {
        "id": "ZU6iCgIOx3Vz"
      },
      "source": [
        "**تنبيه:** وجود قيم **NaT** في التاريخ يمنع التجميع—نظّف التواريخ أولًا.\n"
      ],
      "id": "ZU6iCgIOx3Vz"
    },
    {
      "cell_type": "markdown",
      "metadata": {
        "id": "x-5SoNkGx3Vz"
      },
      "source": [
        "## 6) GroupBy و Pivot: نحو القرار\n",
        "### إيراد حسب القناة\n",
        "**المفهوم:** مقارنة أداء قناتي Online وIn-Store.  \n",
        "**لماذا؟** لتوجيه التسويق والعروض حسب الأداء.  \n",
        "**كيف؟** تجميع الإيراد حسب `Channel` مع ترتيب تنازلي.\n"
      ],
      "id": "x-5SoNkGx3Vz"
    },
    {
      "cell_type": "code",
      "metadata": {
        "id": "J_vFQmzux3Vz",
        "colab": {
          "base_uri": "https://localhost:8080/",
          "height": 178
        },
        "outputId": "ea261f10-847f-4625-a37e-61978dc7201d"
      },
      "execution_count": null,
      "outputs": [
        {
          "output_type": "execute_result",
          "data": {
            "text/plain": [
              "Channel\n",
              "In-Store    13511.9772\n",
              "Online      10634.0377\n",
              "Name: Revenue, dtype: float64"
            ],
            "text/html": [
              "<div>\n",
              "<style scoped>\n",
              "    .dataframe tbody tr th:only-of-type {\n",
              "        vertical-align: middle;\n",
              "    }\n",
              "\n",
              "    .dataframe tbody tr th {\n",
              "        vertical-align: top;\n",
              "    }\n",
              "\n",
              "    .dataframe thead th {\n",
              "        text-align: right;\n",
              "    }\n",
              "</style>\n",
              "<table border=\"1\" class=\"dataframe\">\n",
              "  <thead>\n",
              "    <tr style=\"text-align: right;\">\n",
              "      <th></th>\n",
              "      <th>Revenue</th>\n",
              "    </tr>\n",
              "    <tr>\n",
              "      <th>Channel</th>\n",
              "      <th></th>\n",
              "    </tr>\n",
              "  </thead>\n",
              "  <tbody>\n",
              "    <tr>\n",
              "      <th>In-Store</th>\n",
              "      <td>13511.9772</td>\n",
              "    </tr>\n",
              "    <tr>\n",
              "      <th>Online</th>\n",
              "      <td>10634.0377</td>\n",
              "    </tr>\n",
              "  </tbody>\n",
              "</table>\n",
              "</div><br><label><b>dtype:</b> float64</label>"
            ]
          },
          "metadata": {},
          "execution_count": 38
        }
      ],
      "source": [
        "df.groupby(\"Channel\")[\"Revenue\"].sum().sort_values(ascending=False)\n"
      ],
      "id": "J_vFQmzux3Vz"
    },
    {
      "cell_type": "markdown",
      "metadata": {
        "id": "agpQg_4Gx3Vz"
      },
      "source": [
        "**تنبيه:** اختلاف التهجئة/المسافات قد يخلق قنوات وهمية (مثل \"Online \").\n"
      ],
      "id": "agpQg_4Gx3Vz"
    },
    {
      "cell_type": "markdown",
      "metadata": {
        "id": "-DX2GTI_x3Vz"
      },
      "source": [
        "### زمن التوصيل حسب المدينة\n",
        "**المفهوم:** قياس متوسط `DeliveryDays` لتحديد نقاط ضعف لوجستية.  \n",
        "**لماذا؟** لاتخاذ قرارات تحسين المسارات أو الموردين.  \n",
        "**كيف؟** متوسط الأيام لكل مدينة بترتيب تنازلي.\n"
      ],
      "id": "-DX2GTI_x3Vz"
    },
    {
      "cell_type": "code",
      "metadata": {
        "id": "sNvw454Cx3V0",
        "colab": {
          "base_uri": "https://localhost:8080/",
          "height": 272
        },
        "outputId": "1137df32-32d7-4c1b-cd6f-b16dba129406"
      },
      "execution_count": null,
      "outputs": [
        {
          "output_type": "execute_result",
          "data": {
            "text/plain": [
              "City\n",
              "Madaba    2.575758\n",
              "Aqaba     2.552632\n",
              "Irbid     2.490196\n",
              "Amman     2.375000\n",
              "Zarqa     2.341463\n",
              "Name: DeliveryDays, dtype: float64"
            ],
            "text/html": [
              "<div>\n",
              "<style scoped>\n",
              "    .dataframe tbody tr th:only-of-type {\n",
              "        vertical-align: middle;\n",
              "    }\n",
              "\n",
              "    .dataframe tbody tr th {\n",
              "        vertical-align: top;\n",
              "    }\n",
              "\n",
              "    .dataframe thead th {\n",
              "        text-align: right;\n",
              "    }\n",
              "</style>\n",
              "<table border=\"1\" class=\"dataframe\">\n",
              "  <thead>\n",
              "    <tr style=\"text-align: right;\">\n",
              "      <th></th>\n",
              "      <th>DeliveryDays</th>\n",
              "    </tr>\n",
              "    <tr>\n",
              "      <th>City</th>\n",
              "      <th></th>\n",
              "    </tr>\n",
              "  </thead>\n",
              "  <tbody>\n",
              "    <tr>\n",
              "      <th>Madaba</th>\n",
              "      <td>2.575758</td>\n",
              "    </tr>\n",
              "    <tr>\n",
              "      <th>Aqaba</th>\n",
              "      <td>2.552632</td>\n",
              "    </tr>\n",
              "    <tr>\n",
              "      <th>Irbid</th>\n",
              "      <td>2.490196</td>\n",
              "    </tr>\n",
              "    <tr>\n",
              "      <th>Amman</th>\n",
              "      <td>2.375000</td>\n",
              "    </tr>\n",
              "    <tr>\n",
              "      <th>Zarqa</th>\n",
              "      <td>2.341463</td>\n",
              "    </tr>\n",
              "  </tbody>\n",
              "</table>\n",
              "</div><br><label><b>dtype:</b> float64</label>"
            ]
          },
          "metadata": {},
          "execution_count": 39
        }
      ],
      "source": [
        "df.groupby(\"City\")[\"DeliveryDays\"].mean().sort_values(ascending=False)\n"
      ],
      "id": "sNvw454Cx3V0"
    },
    {
      "cell_type": "markdown",
      "metadata": {
        "id": "iGh27rs3x3V0"
      },
      "source": [
        "**تنبيه:** تحقق من الطلبات الفردية ذات القيم المتطرفة قبل التعميم.\n"
      ],
      "id": "iGh27rs3x3V0"
    },
    {
      "cell_type": "markdown",
      "metadata": {
        "id": "cL9fS1Ccx3V0"
      },
      "source": [
        "### Pivot (مدينة × قناة)\n",
        "**المفهوم:** مصفوفة تلخص الإيراد لكل تقاطع مدينة/قناة.  \n",
        "**لماذا؟** للكشف عن فرص/فجوات توزيع.  \n",
        "**كيف؟** إنشاء Pivot مع `fill_value=0` لتجنب الفراغات.\n"
      ],
      "id": "cL9fS1Ccx3V0"
    },
    {
      "cell_type": "code",
      "metadata": {
        "id": "tKPVtzoKx3V0",
        "colab": {
          "base_uri": "https://localhost:8080/",
          "height": 238
        },
        "outputId": "1f2b153d-fc17-417f-bbb2-132f148207b6"
      },
      "execution_count": null,
      "outputs": [
        {
          "output_type": "execute_result",
          "data": {
            "text/plain": [
              "Channel   In-Store     Online\n",
              "City                         \n",
              "Amman    1996.4938  3002.1801\n",
              "Aqaba    1760.3764  2158.0667\n",
              "Irbid    3905.7305  1908.6811\n",
              "Madaba   2610.1590  1775.9801\n",
              "Zarqa    3239.2175  1789.1297"
            ],
            "text/html": [
              "\n",
              "  <div id=\"df-9f75854e-fb57-4fd9-a3e6-b0fba9e08ced\" class=\"colab-df-container\">\n",
              "    <div>\n",
              "<style scoped>\n",
              "    .dataframe tbody tr th:only-of-type {\n",
              "        vertical-align: middle;\n",
              "    }\n",
              "\n",
              "    .dataframe tbody tr th {\n",
              "        vertical-align: top;\n",
              "    }\n",
              "\n",
              "    .dataframe thead th {\n",
              "        text-align: right;\n",
              "    }\n",
              "</style>\n",
              "<table border=\"1\" class=\"dataframe\">\n",
              "  <thead>\n",
              "    <tr style=\"text-align: right;\">\n",
              "      <th>Channel</th>\n",
              "      <th>In-Store</th>\n",
              "      <th>Online</th>\n",
              "    </tr>\n",
              "    <tr>\n",
              "      <th>City</th>\n",
              "      <th></th>\n",
              "      <th></th>\n",
              "    </tr>\n",
              "  </thead>\n",
              "  <tbody>\n",
              "    <tr>\n",
              "      <th>Amman</th>\n",
              "      <td>1996.4938</td>\n",
              "      <td>3002.1801</td>\n",
              "    </tr>\n",
              "    <tr>\n",
              "      <th>Aqaba</th>\n",
              "      <td>1760.3764</td>\n",
              "      <td>2158.0667</td>\n",
              "    </tr>\n",
              "    <tr>\n",
              "      <th>Irbid</th>\n",
              "      <td>3905.7305</td>\n",
              "      <td>1908.6811</td>\n",
              "    </tr>\n",
              "    <tr>\n",
              "      <th>Madaba</th>\n",
              "      <td>2610.1590</td>\n",
              "      <td>1775.9801</td>\n",
              "    </tr>\n",
              "    <tr>\n",
              "      <th>Zarqa</th>\n",
              "      <td>3239.2175</td>\n",
              "      <td>1789.1297</td>\n",
              "    </tr>\n",
              "  </tbody>\n",
              "</table>\n",
              "</div>\n",
              "    <div class=\"colab-df-buttons\">\n",
              "\n",
              "  <div class=\"colab-df-container\">\n",
              "    <button class=\"colab-df-convert\" onclick=\"convertToInteractive('df-9f75854e-fb57-4fd9-a3e6-b0fba9e08ced')\"\n",
              "            title=\"Convert this dataframe to an interactive table.\"\n",
              "            style=\"display:none;\">\n",
              "\n",
              "  <svg xmlns=\"http://www.w3.org/2000/svg\" height=\"24px\" viewBox=\"0 -960 960 960\">\n",
              "    <path d=\"M120-120v-720h720v720H120Zm60-500h600v-160H180v160Zm220 220h160v-160H400v160Zm0 220h160v-160H400v160ZM180-400h160v-160H180v160Zm440 0h160v-160H620v160ZM180-180h160v-160H180v160Zm440 0h160v-160H620v160Z\"/>\n",
              "  </svg>\n",
              "    </button>\n",
              "\n",
              "  <style>\n",
              "    .colab-df-container {\n",
              "      display:flex;\n",
              "      gap: 12px;\n",
              "    }\n",
              "\n",
              "    .colab-df-convert {\n",
              "      background-color: #E8F0FE;\n",
              "      border: none;\n",
              "      border-radius: 50%;\n",
              "      cursor: pointer;\n",
              "      display: none;\n",
              "      fill: #1967D2;\n",
              "      height: 32px;\n",
              "      padding: 0 0 0 0;\n",
              "      width: 32px;\n",
              "    }\n",
              "\n",
              "    .colab-df-convert:hover {\n",
              "      background-color: #E2EBFA;\n",
              "      box-shadow: 0px 1px 2px rgba(60, 64, 67, 0.3), 0px 1px 3px 1px rgba(60, 64, 67, 0.15);\n",
              "      fill: #174EA6;\n",
              "    }\n",
              "\n",
              "    .colab-df-buttons div {\n",
              "      margin-bottom: 4px;\n",
              "    }\n",
              "\n",
              "    [theme=dark] .colab-df-convert {\n",
              "      background-color: #3B4455;\n",
              "      fill: #D2E3FC;\n",
              "    }\n",
              "\n",
              "    [theme=dark] .colab-df-convert:hover {\n",
              "      background-color: #434B5C;\n",
              "      box-shadow: 0px 1px 3px 1px rgba(0, 0, 0, 0.15);\n",
              "      filter: drop-shadow(0px 1px 2px rgba(0, 0, 0, 0.3));\n",
              "      fill: #FFFFFF;\n",
              "    }\n",
              "  </style>\n",
              "\n",
              "    <script>\n",
              "      const buttonEl =\n",
              "        document.querySelector('#df-9f75854e-fb57-4fd9-a3e6-b0fba9e08ced button.colab-df-convert');\n",
              "      buttonEl.style.display =\n",
              "        google.colab.kernel.accessAllowed ? 'block' : 'none';\n",
              "\n",
              "      async function convertToInteractive(key) {\n",
              "        const element = document.querySelector('#df-9f75854e-fb57-4fd9-a3e6-b0fba9e08ced');\n",
              "        const dataTable =\n",
              "          await google.colab.kernel.invokeFunction('convertToInteractive',\n",
              "                                                    [key], {});\n",
              "        if (!dataTable) return;\n",
              "\n",
              "        const docLinkHtml = 'Like what you see? Visit the ' +\n",
              "          '<a target=\"_blank\" href=https://colab.research.google.com/notebooks/data_table.ipynb>data table notebook</a>'\n",
              "          + ' to learn more about interactive tables.';\n",
              "        element.innerHTML = '';\n",
              "        dataTable['output_type'] = 'display_data';\n",
              "        await google.colab.output.renderOutput(dataTable, element);\n",
              "        const docLink = document.createElement('div');\n",
              "        docLink.innerHTML = docLinkHtml;\n",
              "        element.appendChild(docLink);\n",
              "      }\n",
              "    </script>\n",
              "  </div>\n",
              "\n",
              "\n",
              "    <div id=\"df-7605cf01-502e-4a51-8e91-47c61e006936\">\n",
              "      <button class=\"colab-df-quickchart\" onclick=\"quickchart('df-7605cf01-502e-4a51-8e91-47c61e006936')\"\n",
              "                title=\"Suggest charts\"\n",
              "                style=\"display:none;\">\n",
              "\n",
              "<svg xmlns=\"http://www.w3.org/2000/svg\" height=\"24px\"viewBox=\"0 0 24 24\"\n",
              "     width=\"24px\">\n",
              "    <g>\n",
              "        <path d=\"M19 3H5c-1.1 0-2 .9-2 2v14c0 1.1.9 2 2 2h14c1.1 0 2-.9 2-2V5c0-1.1-.9-2-2-2zM9 17H7v-7h2v7zm4 0h-2V7h2v10zm4 0h-2v-4h2v4z\"/>\n",
              "    </g>\n",
              "</svg>\n",
              "      </button>\n",
              "\n",
              "<style>\n",
              "  .colab-df-quickchart {\n",
              "      --bg-color: #E8F0FE;\n",
              "      --fill-color: #1967D2;\n",
              "      --hover-bg-color: #E2EBFA;\n",
              "      --hover-fill-color: #174EA6;\n",
              "      --disabled-fill-color: #AAA;\n",
              "      --disabled-bg-color: #DDD;\n",
              "  }\n",
              "\n",
              "  [theme=dark] .colab-df-quickchart {\n",
              "      --bg-color: #3B4455;\n",
              "      --fill-color: #D2E3FC;\n",
              "      --hover-bg-color: #434B5C;\n",
              "      --hover-fill-color: #FFFFFF;\n",
              "      --disabled-bg-color: #3B4455;\n",
              "      --disabled-fill-color: #666;\n",
              "  }\n",
              "\n",
              "  .colab-df-quickchart {\n",
              "    background-color: var(--bg-color);\n",
              "    border: none;\n",
              "    border-radius: 50%;\n",
              "    cursor: pointer;\n",
              "    display: none;\n",
              "    fill: var(--fill-color);\n",
              "    height: 32px;\n",
              "    padding: 0;\n",
              "    width: 32px;\n",
              "  }\n",
              "\n",
              "  .colab-df-quickchart:hover {\n",
              "    background-color: var(--hover-bg-color);\n",
              "    box-shadow: 0 1px 2px rgba(60, 64, 67, 0.3), 0 1px 3px 1px rgba(60, 64, 67, 0.15);\n",
              "    fill: var(--button-hover-fill-color);\n",
              "  }\n",
              "\n",
              "  .colab-df-quickchart-complete:disabled,\n",
              "  .colab-df-quickchart-complete:disabled:hover {\n",
              "    background-color: var(--disabled-bg-color);\n",
              "    fill: var(--disabled-fill-color);\n",
              "    box-shadow: none;\n",
              "  }\n",
              "\n",
              "  .colab-df-spinner {\n",
              "    border: 2px solid var(--fill-color);\n",
              "    border-color: transparent;\n",
              "    border-bottom-color: var(--fill-color);\n",
              "    animation:\n",
              "      spin 1s steps(1) infinite;\n",
              "  }\n",
              "\n",
              "  @keyframes spin {\n",
              "    0% {\n",
              "      border-color: transparent;\n",
              "      border-bottom-color: var(--fill-color);\n",
              "      border-left-color: var(--fill-color);\n",
              "    }\n",
              "    20% {\n",
              "      border-color: transparent;\n",
              "      border-left-color: var(--fill-color);\n",
              "      border-top-color: var(--fill-color);\n",
              "    }\n",
              "    30% {\n",
              "      border-color: transparent;\n",
              "      border-left-color: var(--fill-color);\n",
              "      border-top-color: var(--fill-color);\n",
              "      border-right-color: var(--fill-color);\n",
              "    }\n",
              "    40% {\n",
              "      border-color: transparent;\n",
              "      border-right-color: var(--fill-color);\n",
              "      border-top-color: var(--fill-color);\n",
              "    }\n",
              "    60% {\n",
              "      border-color: transparent;\n",
              "      border-right-color: var(--fill-color);\n",
              "    }\n",
              "    80% {\n",
              "      border-color: transparent;\n",
              "      border-right-color: var(--fill-color);\n",
              "      border-bottom-color: var(--fill-color);\n",
              "    }\n",
              "    90% {\n",
              "      border-color: transparent;\n",
              "      border-bottom-color: var(--fill-color);\n",
              "    }\n",
              "  }\n",
              "</style>\n",
              "\n",
              "      <script>\n",
              "        async function quickchart(key) {\n",
              "          const quickchartButtonEl =\n",
              "            document.querySelector('#' + key + ' button');\n",
              "          quickchartButtonEl.disabled = true;  // To prevent multiple clicks.\n",
              "          quickchartButtonEl.classList.add('colab-df-spinner');\n",
              "          try {\n",
              "            const charts = await google.colab.kernel.invokeFunction(\n",
              "                'suggestCharts', [key], {});\n",
              "          } catch (error) {\n",
              "            console.error('Error during call to suggestCharts:', error);\n",
              "          }\n",
              "          quickchartButtonEl.classList.remove('colab-df-spinner');\n",
              "          quickchartButtonEl.classList.add('colab-df-quickchart-complete');\n",
              "        }\n",
              "        (() => {\n",
              "          let quickchartButtonEl =\n",
              "            document.querySelector('#df-7605cf01-502e-4a51-8e91-47c61e006936 button');\n",
              "          quickchartButtonEl.style.display =\n",
              "            google.colab.kernel.accessAllowed ? 'block' : 'none';\n",
              "        })();\n",
              "      </script>\n",
              "    </div>\n",
              "\n",
              "    </div>\n",
              "  </div>\n"
            ],
            "application/vnd.google.colaboratory.intrinsic+json": {
              "type": "dataframe",
              "summary": "{\n  \"name\": \"import pandas as pd; pd\",\n  \"rows\": 5,\n  \"fields\": [\n    {\n      \"column\": \"City\",\n      \"properties\": {\n        \"dtype\": \"string\",\n        \"num_unique_values\": 5,\n        \"samples\": [\n          \"Aqaba\",\n          \"Zarqa\",\n          \"Irbid\"\n        ],\n        \"semantic_type\": \"\",\n        \"description\": \"\"\n      }\n    },\n    {\n      \"column\": \"In-Store\",\n      \"properties\": {\n        \"dtype\": \"number\",\n        \"std\": 884.6465040722383,\n        \"min\": 1760.3764,\n        \"max\": 3905.7304999999997,\n        \"num_unique_values\": 5,\n        \"samples\": [\n          1760.3764,\n          3239.2175,\n          3905.7304999999997\n        ],\n        \"semantic_type\": \"\",\n        \"description\": \"\"\n      }\n    },\n    {\n      \"column\": \"Online\",\n      \"properties\": {\n        \"dtype\": \"number\",\n        \"std\": 512.8205373217692,\n        \"min\": 1775.9801,\n        \"max\": 3002.1801,\n        \"num_unique_values\": 5,\n        \"samples\": [\n          2158.0667,\n          1789.1297,\n          1908.6811\n        ],\n        \"semantic_type\": \"\",\n        \"description\": \"\"\n      }\n    }\n  ]\n}"
            }
          },
          "metadata": {},
          "execution_count": 41
        }
      ],
      "source": [
        "import pandas as pd; pd.pivot_table(df, values=\"Revenue\", index=\"City\", columns=\"Channel\", aggfunc=\"sum\", fill_value=0)\n"
      ],
      "id": "tKPVtzoKx3V0"
    },
    {
      "cell_type": "markdown",
      "metadata": {
        "id": "Q65jWKVOx3V0"
      },
      "source": [
        "**تنبيه:** إن كانت المخرجات كبيرة، ركّز على أعلى وأدنى خلايا لاتخاذ قرار.\n"
      ],
      "id": "Q65jWKVOx3V0"
    },
    {
      "cell_type": "markdown",
      "metadata": {
        "id": "iAJoCJOCx3V0"
      },
      "source": [
        "### أفضل العملاء\n",
        "**المفهوم:** تحديد أعلى العملاء إيرادًا.  \n",
        "**لماذا؟** لاستهداف برامج الولاء والعروض الخاصة.  \n",
        "**كيف؟** تجميع الإيراد حسب `Customer` واختيار أعلى 5.\n"
      ],
      "id": "iAJoCJOCx3V0"
    },
    {
      "cell_type": "code",
      "metadata": {
        "id": "eqG2dbcpx3V0",
        "colab": {
          "base_uri": "https://localhost:8080/",
          "height": 272
        },
        "outputId": "e0ea0da3-30fd-46b7-8d51-5d9d2e485c1f"
      },
      "execution_count": null,
      "outputs": [
        {
          "output_type": "execute_result",
          "data": {
            "text/plain": [
              "Customer\n",
              "CUST-23    1021.4276\n",
              "CUST-47    1020.6387\n",
              "CUST-35    1012.5015\n",
              "CUST-16     992.0557\n",
              "CUST-2      947.0560\n",
              "Name: Revenue, dtype: float64"
            ],
            "text/html": [
              "<div>\n",
              "<style scoped>\n",
              "    .dataframe tbody tr th:only-of-type {\n",
              "        vertical-align: middle;\n",
              "    }\n",
              "\n",
              "    .dataframe tbody tr th {\n",
              "        vertical-align: top;\n",
              "    }\n",
              "\n",
              "    .dataframe thead th {\n",
              "        text-align: right;\n",
              "    }\n",
              "</style>\n",
              "<table border=\"1\" class=\"dataframe\">\n",
              "  <thead>\n",
              "    <tr style=\"text-align: right;\">\n",
              "      <th></th>\n",
              "      <th>Revenue</th>\n",
              "    </tr>\n",
              "    <tr>\n",
              "      <th>Customer</th>\n",
              "      <th></th>\n",
              "    </tr>\n",
              "  </thead>\n",
              "  <tbody>\n",
              "    <tr>\n",
              "      <th>CUST-23</th>\n",
              "      <td>1021.4276</td>\n",
              "    </tr>\n",
              "    <tr>\n",
              "      <th>CUST-47</th>\n",
              "      <td>1020.6387</td>\n",
              "    </tr>\n",
              "    <tr>\n",
              "      <th>CUST-35</th>\n",
              "      <td>1012.5015</td>\n",
              "    </tr>\n",
              "    <tr>\n",
              "      <th>CUST-16</th>\n",
              "      <td>992.0557</td>\n",
              "    </tr>\n",
              "    <tr>\n",
              "      <th>CUST-2</th>\n",
              "      <td>947.0560</td>\n",
              "    </tr>\n",
              "  </tbody>\n",
              "</table>\n",
              "</div><br><label><b>dtype:</b> float64</label>"
            ]
          },
          "metadata": {},
          "execution_count": 43
        }
      ],
      "source": [
        "df.groupby(\"Customer\")[\"Revenue\"].sum().sort_values(ascending=False).head(5)\n"
      ],
      "id": "eqG2dbcpx3V0"
    },
    {
      "cell_type": "markdown",
      "metadata": {
        "id": "xwNlNCH2x3V0"
      },
      "source": [
        "**تنبيه:** إن تكررت هويات العملاء بمعرّفات مختلفة، ستحتاج لتوحيد الهوية (خارج نطاق الجلسة).\n"
      ],
      "id": "xwNlNCH2x3V0"
    },
    {
      "cell_type": "markdown",
      "metadata": {
        "id": "jWiGjUczx3V1"
      },
      "source": [
        "## 7) من Insight إلى قرار\n",
        "**المفهوم:** تحويل النتائج إلى فعل واضح قابل للقياس.  \n",
        "**لماذا؟** لأن قيمة التحليل تظهر عند اتخاذ قرارات عملية.  \n",
        "**كيف؟** استخرج مؤشرين رئيسيين وصِغ قرارًا مختصرًا يحدد ماذا/لماذا/متى.\n"
      ],
      "id": "jWiGjUczx3V1"
    },
    {
      "cell_type": "code",
      "metadata": {
        "id": "Fz7yOfsbx3V1",
        "colab": {
          "base_uri": "https://localhost:8080/"
        },
        "outputId": "17b2abfe-1b27-47a7-d14c-54b7980c4572"
      },
      "execution_count": null,
      "outputs": [
        {
          "output_type": "stream",
          "name": "stdout",
          "text": [
            "Phone In-Store\n"
          ]
        }
      ],
      "source": [
        "top_prod = df.groupby(\"Product\")[\"Revenue\"].sum().idxmax(); best_channel = df.groupby(\"Channel\")[\"Revenue\"].sum().idxmax(); print(top_prod, best_channel)\n"
      ],
      "id": "Fz7yOfsbx3V1"
    },
    {
      "cell_type": "markdown",
      "metadata": {
        "id": "29P9BGqix3V1"
      },
      "source": [
        "**مثال قرار:** زيادة مخزون المنتج الأعلى إيرادًا في القناة الأفضل خلال 30 يومًا وقياس AOV أسبوعيًا.  \n",
        "**تنبيه:** لا تعتمد على مؤشر واحد—ادعم القرار بأكثر من دليل.\n"
      ],
      "id": "29P9BGqix3V1"
    },
    {
      "cell_type": "markdown",
      "metadata": {
        "id": "zzgSGwSHx3V1"
      },
      "source": [
        "## 8) المشروع المصغّر (15 دقيقة)\n",
        "**المهمة:**  \n",
        "1) اختر محورًا (منتج/مدينة/قناة).  \n",
        "2) أظهر مؤشرين رقميين + رسم واحد.  \n",
        "3) اكتب توصية عملية من سطرين (ماذا/لماذا/متى).  \n",
        "**نموذج تسليم:** Insight + Chart + Decision.\n"
      ],
      "id": "zzgSGwSHx3V1"
    }
  ]
}